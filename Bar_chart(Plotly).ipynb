{
  "nbformat": 4,
  "nbformat_minor": 0,
  "metadata": {
    "colab": {
      "name": "Bar_chart(Plotly).ipynb",
      "provenance": [],
      "collapsed_sections": [],
      "authorship_tag": "ABX9TyM5pU8xDab7G+QoF2+tHGG2",
      "include_colab_link": true
    },
    "kernelspec": {
      "name": "python3",
      "display_name": "Python 3"
    }
  },
  "cells": [
    {
      "cell_type": "markdown",
      "metadata": {
        "id": "view-in-github",
        "colab_type": "text"
      },
      "source": [
        "<a href=\"https://colab.research.google.com/github/justaplan/plotly_tutorials/blob/main/Bar_chart(Plotly).ipynb\" target=\"_parent\"><img src=\"https://colab.research.google.com/assets/colab-badge.svg\" alt=\"Open In Colab\"/></a>"
      ]
    },
    {
      "cell_type": "code",
      "metadata": {
        "id": "JGFLjdtTr3Bl",
        "outputId": "eab47457-a14a-4a6f-abeb-dc3db64acc91",
        "colab": {
          "base_uri": "https://localhost:8080/",
          "height": 51
        }
      },
      "source": [
        "from google.colab import drive\n",
        "\n",
        "drive.mount(\"/content/gdrive\" , force_remount=True)\n",
        "\n",
        "%cd \"/content/gdrive/My Drive/Python/List of CSV\""
      ],
      "execution_count": 1,
      "outputs": [
        {
          "output_type": "stream",
          "text": [
            "Mounted at /content/gdrive\n",
            "/content/gdrive/My Drive/Python/List of CSV\n"
          ],
          "name": "stdout"
        }
      ]
    },
    {
      "cell_type": "code",
      "metadata": {
        "id": "-IlwPizusLW7"
      },
      "source": [
        "from IPython.display import HTML\n",
        "import plotly\n",
        "import plotly.express as px\n",
        "import pandas as pd\n",
        "import plotly.io as pio"
      ],
      "execution_count": 2,
      "outputs": []
    },
    {
      "cell_type": "code",
      "metadata": {
        "id": "jugrSJMYsNdA"
      },
      "source": [
        "df = pd.read_csv(\"Caste.csv\")"
      ],
      "execution_count": 28,
      "outputs": []
    },
    {
      "cell_type": "code",
      "metadata": {
        "id": "UjPj16SjsUr2"
      },
      "source": [
        "df = df[df['state_name']=='Maharashtra']"
      ],
      "execution_count": 43,
      "outputs": []
    },
    {
      "cell_type": "code",
      "metadata": {
        "id": "unCceDvcy8y2"
      },
      "source": [
        "df = df.groupby([\"year\",\"gender\"],as_index=False)[['detenues','under_trial','convicts','others']].sum()"
      ],
      "execution_count": 44,
      "outputs": []
    },
    {
      "cell_type": "code",
      "metadata": {
        "id": "oqrnupPTsw3F",
        "outputId": "b080de96-30c5-405c-ef88-8346c50162bf",
        "colab": {
          "base_uri": "https://localhost:8080/",
          "height": 204
        }
      },
      "source": [
        "df.head()"
      ],
      "execution_count": 13,
      "outputs": [
        {
          "output_type": "execute_result",
          "data": {
            "text/html": [
              "<div>\n",
              "<style scoped>\n",
              "    .dataframe tbody tr th:only-of-type {\n",
              "        vertical-align: middle;\n",
              "    }\n",
              "\n",
              "    .dataframe tbody tr th {\n",
              "        vertical-align: top;\n",
              "    }\n",
              "\n",
              "    .dataframe thead th {\n",
              "        text-align: right;\n",
              "    }\n",
              "</style>\n",
              "<table border=\"1\" class=\"dataframe\">\n",
              "  <thead>\n",
              "    <tr style=\"text-align: right;\">\n",
              "      <th></th>\n",
              "      <th>year</th>\n",
              "      <th>gender</th>\n",
              "      <th>detenues</th>\n",
              "      <th>under_trial</th>\n",
              "      <th>convicts</th>\n",
              "      <th>others</th>\n",
              "    </tr>\n",
              "  </thead>\n",
              "  <tbody>\n",
              "    <tr>\n",
              "      <th>0</th>\n",
              "      <td>2001</td>\n",
              "      <td>Female</td>\n",
              "      <td>1</td>\n",
              "      <td>583</td>\n",
              "      <td>279</td>\n",
              "      <td>0</td>\n",
              "    </tr>\n",
              "    <tr>\n",
              "      <th>1</th>\n",
              "      <td>2001</td>\n",
              "      <td>Male</td>\n",
              "      <td>364</td>\n",
              "      <td>14863</td>\n",
              "      <td>6433</td>\n",
              "      <td>4</td>\n",
              "    </tr>\n",
              "    <tr>\n",
              "      <th>2</th>\n",
              "      <td>2002</td>\n",
              "      <td>Female</td>\n",
              "      <td>8</td>\n",
              "      <td>648</td>\n",
              "      <td>311</td>\n",
              "      <td>0</td>\n",
              "    </tr>\n",
              "    <tr>\n",
              "      <th>3</th>\n",
              "      <td>2002</td>\n",
              "      <td>Male</td>\n",
              "      <td>299</td>\n",
              "      <td>13869</td>\n",
              "      <td>6887</td>\n",
              "      <td>0</td>\n",
              "    </tr>\n",
              "    <tr>\n",
              "      <th>4</th>\n",
              "      <td>2003</td>\n",
              "      <td>Female</td>\n",
              "      <td>1</td>\n",
              "      <td>728</td>\n",
              "      <td>390</td>\n",
              "      <td>0</td>\n",
              "    </tr>\n",
              "  </tbody>\n",
              "</table>\n",
              "</div>"
            ],
            "text/plain": [
              "   year  gender  detenues  under_trial  convicts  others\n",
              "0  2001  Female         1          583       279       0\n",
              "1  2001    Male       364        14863      6433       4\n",
              "2  2002  Female         8          648       311       0\n",
              "3  2002    Male       299        13869      6887       0\n",
              "4  2003  Female         1          728       390       0"
            ]
          },
          "metadata": {
            "tags": []
          },
          "execution_count": 13
        }
      ]
    },
    {
      "cell_type": "markdown",
      "metadata": {
        "id": "8CH0AhfGtJVR"
      },
      "source": [
        "<h2>1. Normal Bar Chart (Relative)</h2>"
      ]
    },
    {
      "cell_type": "code",
      "metadata": {
        "id": "SVejYA6Js3-S",
        "outputId": "f91e2840-11a8-47d4-83a7-ad7e65d2224b",
        "colab": {
          "base_uri": "https://localhost:8080/",
          "height": 737
        }
      },
      "source": [
        "barchart = px.bar(\n",
        "    data_frame=df,\n",
        "    x=\"year\",\n",
        "    y=\"convicts\",\n",
        "    color=\"gender\",               # differentiate color of marks\n",
        "    opacity=0.9,                  # set opacity of markers (from 0 to 1)\n",
        "    orientation=\"v\",              # 'v','h': orientation of the marks\n",
        "    barmode='relative',           # in 'overlay' mode, bars are top of one another.\n",
        "                                  # in 'group' mode, bars are placed beside each other.\n",
        "                                  # in 'relative' mode, bars are stacked above (+) or below (-) zero.\n",
        "    labels={\n",
        "        \"convicts\":\"Convicts in Maharashtra\",\n",
        "        \"gender\":\"Gender\",\n",
        "        \"year\":\"Year\"},           # map the labels of the figure\n",
        "    title='Indian Prison Statistics', # figure title\n",
        "    width=1750,                   # figure width in pixels\n",
        "    height=720,                   # figure height in pixels\n",
        "    template='xgridoff',            # 'ggplot2', 'seaborn', 'simple_white', 'plotly',\n",
        "                                  # 'plotly_white', 'plotly_dark', 'presentation',\n",
        "                                  # 'xgridoff', 'ygridoff', 'gridon', 'none'\n",
        "\n",
        "\n",
        "\n",
        ")\n",
        "\n",
        "pio.show(barchart)"
      ],
      "execution_count": 36,
      "outputs": [
        {
          "output_type": "display_data",
          "data": {
            "text/html": [
              "<html>\n",
              "<head><meta charset=\"utf-8\" /></head>\n",
              "<body>\n",
              "    <div>\n",
              "            <script src=\"https://cdnjs.cloudflare.com/ajax/libs/mathjax/2.7.5/MathJax.js?config=TeX-AMS-MML_SVG\"></script><script type=\"text/javascript\">if (window.MathJax) {MathJax.Hub.Config({SVG: {font: \"STIX-Web\"}});}</script>\n",
              "                <script type=\"text/javascript\">window.PlotlyConfig = {MathJaxConfig: 'local'};</script>\n",
              "        <script src=\"https://cdn.plot.ly/plotly-latest.min.js\"></script>    \n",
              "            <div id=\"9369c087-880f-439f-9dc5-ddfbae035db6\" class=\"plotly-graph-div\" style=\"height:720px; width:1750px;\"></div>\n",
              "            <script type=\"text/javascript\">\n",
              "                \n",
              "                    window.PLOTLYENV=window.PLOTLYENV || {};\n",
              "                    \n",
              "                if (document.getElementById(\"9369c087-880f-439f-9dc5-ddfbae035db6\")) {\n",
              "                    Plotly.newPlot(\n",
              "                        '9369c087-880f-439f-9dc5-ddfbae035db6',\n",
              "                        [{\"alignmentgroup\": \"True\", \"hoverlabel\": {\"namelength\": 0}, \"hovertemplate\": \"Gender=Male<br>Year=%{x}<br>Convicts in Maharashtra=%{y}\", \"legendgroup\": \"Gender=Male\", \"marker\": {\"color\": \"#1F77B4\", \"opacity\": 0.9}, \"name\": \"Gender=Male\", \"offsetgroup\": \"Gender=Male\", \"orientation\": \"v\", \"showlegend\": true, \"textposition\": \"auto\", \"type\": \"bar\", \"x\": [2001, 2001, 2001, 2001, 2002, 2002, 2002, 2002, 2003, 2003, 2003, 2003, 2004, 2004, 2004, 2004, 2005, 2005, 2005, 2005, 2006, 2006, 2006, 2006, 2007, 2007, 2007, 2007, 2008, 2008, 2008, 2008, 2009, 2009, 2009, 2009, 2010, 2010, 2010, 2010, 2011, 2011, 2011, 2011, 2012, 2012, 2012, 2012, 2013, 2013, 2013, 2013], \"xaxis\": \"x\", \"y\": [1383, 1027, 1680, 2343, 1346, 1169, 1855, 2517, 1451, 1199, 2657, 2518, 2309, 1571, 2085, 2482, 1651, 1636, 2845, 2634, 1742, 1440, 2584, 2934, 1627, 1200, 2583, 3282, 1955, 1191, 2337, 3182, 1616, 1287, 2595, 2595, 1600, 1205, 2614, 2271, 1945, 1353, 1307, 2886, 1622, 866, 1474, 3607, 1600, 1224, 1697, 3083], \"yaxis\": \"y\"}, {\"alignmentgroup\": \"True\", \"hoverlabel\": {\"namelength\": 0}, \"hovertemplate\": \"Gender=Female<br>Year=%{x}<br>Convicts in Maharashtra=%{y}\", \"legendgroup\": \"Gender=Female\", \"marker\": {\"color\": \"#FF7F0E\", \"opacity\": 0.9}, \"name\": \"Gender=Female\", \"offsetgroup\": \"Gender=Female\", \"orientation\": \"v\", \"showlegend\": true, \"textposition\": \"auto\", \"type\": \"bar\", \"x\": [2001, 2001, 2001, 2001, 2002, 2002, 2002, 2002, 2003, 2003, 2003, 2003, 2004, 2004, 2004, 2004, 2005, 2005, 2005, 2005, 2006, 2006, 2006, 2006, 2007, 2007, 2007, 2007, 2008, 2008, 2008, 2008, 2009, 2009, 2009, 2009, 2010, 2010, 2010, 2010, 2011, 2011, 2011, 2011, 2012, 2012, 2012, 2012, 2013, 2013, 2013, 2013], \"xaxis\": \"x\", \"y\": [74, 52, 69, 84, 74, 49, 66, 122, 67, 61, 120, 142, 160, 46, 138, 140, 67, 72, 109, 215, 56, 33, 147, 213, 129, 46, 161, 175, 165, 58, 114, 162, 135, 50, 162, 182, 96, 44, 221, 88, 96, 63, 156, 146, 94, 68, 65, 230, 76, 54, 135, 172], \"yaxis\": \"y\"}],\n",
              "                        {\"barmode\": \"relative\", \"height\": 720, \"legend\": {\"tracegroupgap\": 0}, \"template\": {\"data\": {\"pie\": [{\"automargin\": true, \"type\": \"pie\"}]}, \"layout\": {\"xaxis\": {\"showgrid\": false, \"title\": {\"standoff\": 15}}, \"yaxis\": {\"title\": {\"standoff\": 15}}}}, \"title\": {\"text\": \"Indian Prison Statistics\"}, \"width\": 1750, \"xaxis\": {\"anchor\": \"y\", \"domain\": [0.0, 1.0], \"title\": {\"text\": \"Year\"}}, \"yaxis\": {\"anchor\": \"x\", \"domain\": [0.0, 1.0], \"title\": {\"text\": \"Convicts in Maharashtra\"}}},\n",
              "                        {\"responsive\": true}\n",
              "                    ).then(function(){\n",
              "                            \n",
              "var gd = document.getElementById('9369c087-880f-439f-9dc5-ddfbae035db6');\n",
              "var x = new MutationObserver(function (mutations, observer) {{\n",
              "        var display = window.getComputedStyle(gd).display;\n",
              "        if (!display || display === 'none') {{\n",
              "            console.log([gd, 'removed!']);\n",
              "            Plotly.purge(gd);\n",
              "            observer.disconnect();\n",
              "        }}\n",
              "}});\n",
              "\n",
              "// Listen for the removal of the full notebook cells\n",
              "var notebookContainer = gd.closest('#notebook-container');\n",
              "if (notebookContainer) {{\n",
              "    x.observe(notebookContainer, {childList: true});\n",
              "}}\n",
              "\n",
              "// Listen for the clearing of the current output cell\n",
              "var outputEl = gd.closest('.output');\n",
              "if (outputEl) {{\n",
              "    x.observe(outputEl, {childList: true});\n",
              "}}\n",
              "\n",
              "                        })\n",
              "                };\n",
              "                \n",
              "            </script>\n",
              "        </div>\n",
              "</body>\n",
              "</html>"
            ]
          },
          "metadata": {
            "tags": []
          }
        }
      ]
    },
    {
      "cell_type": "markdown",
      "metadata": {
        "id": "zRh1Ige2xcV7"
      },
      "source": [
        "<h2>2. Normal Bar Chart (Group)</h2>"
      ]
    },
    {
      "cell_type": "code",
      "metadata": {
        "id": "iF7hGT2zxc-P",
        "outputId": "a662dd74-e945-44bc-e360-ed116afedc4d",
        "colab": {
          "base_uri": "https://localhost:8080/",
          "height": 737
        }
      },
      "source": [
        "barchart = px.bar(\n",
        "    data_frame=df,\n",
        "    x=\"year\",\n",
        "    y=\"convicts\",\n",
        "    color=\"gender\",               # differentiate color of marks\n",
        "    opacity=0.9,                  # set opacity of markers (from 0 to 1)\n",
        "    orientation=\"v\",              # 'v','h': orientation of the marks\n",
        "    barmode='group',           # in 'overlay' mode, bars are top of one another.\n",
        "                                  # in 'group' mode, bars are placed beside each other.\n",
        "                                  # in 'relative' mode, bars are stacked above (+) or below (-) zero.\n",
        "    labels={\n",
        "        \"convicts\":\"Convicts in Maharashtra\",\n",
        "        \"gender\":\"Gender\",\n",
        "        \"year\":\"Year\"},           # map the labels of the figure\n",
        "    title='Indian Prison Statistics', # figure title\n",
        "    width=1750,                   # figure width in pixels\n",
        "    height=720,                   # figure height in pixels\n",
        "    template='xgridoff',            # 'ggplot2', 'seaborn', 'simple_white', 'plotly',\n",
        "                                  # 'plotly_white', 'plotly_dark', 'presentation',\n",
        "                                  # 'xgridoff', 'ygridoff', 'gridon', 'none'\n",
        "\n",
        "\n",
        "\n",
        ")\n",
        "\n",
        "pio.show(barchart)"
      ],
      "execution_count": 35,
      "outputs": [
        {
          "output_type": "display_data",
          "data": {
            "text/html": [
              "<html>\n",
              "<head><meta charset=\"utf-8\" /></head>\n",
              "<body>\n",
              "    <div>\n",
              "            <script src=\"https://cdnjs.cloudflare.com/ajax/libs/mathjax/2.7.5/MathJax.js?config=TeX-AMS-MML_SVG\"></script><script type=\"text/javascript\">if (window.MathJax) {MathJax.Hub.Config({SVG: {font: \"STIX-Web\"}});}</script>\n",
              "                <script type=\"text/javascript\">window.PlotlyConfig = {MathJaxConfig: 'local'};</script>\n",
              "        <script src=\"https://cdn.plot.ly/plotly-latest.min.js\"></script>    \n",
              "            <div id=\"b2d9bf8d-fa1a-44ca-8994-fab749b40687\" class=\"plotly-graph-div\" style=\"height:720px; width:1750px;\"></div>\n",
              "            <script type=\"text/javascript\">\n",
              "                \n",
              "                    window.PLOTLYENV=window.PLOTLYENV || {};\n",
              "                    \n",
              "                if (document.getElementById(\"b2d9bf8d-fa1a-44ca-8994-fab749b40687\")) {\n",
              "                    Plotly.newPlot(\n",
              "                        'b2d9bf8d-fa1a-44ca-8994-fab749b40687',\n",
              "                        [{\"alignmentgroup\": \"True\", \"hoverlabel\": {\"namelength\": 0}, \"hovertemplate\": \"Gender=Male<br>Year=%{x}<br>Convicts in Maharashtra=%{y}\", \"legendgroup\": \"Gender=Male\", \"marker\": {\"color\": \"#1F77B4\", \"opacity\": 0.9}, \"name\": \"Gender=Male\", \"offsetgroup\": \"Gender=Male\", \"orientation\": \"v\", \"showlegend\": true, \"textposition\": \"auto\", \"type\": \"bar\", \"x\": [2001, 2001, 2001, 2001, 2002, 2002, 2002, 2002, 2003, 2003, 2003, 2003, 2004, 2004, 2004, 2004, 2005, 2005, 2005, 2005, 2006, 2006, 2006, 2006, 2007, 2007, 2007, 2007, 2008, 2008, 2008, 2008, 2009, 2009, 2009, 2009, 2010, 2010, 2010, 2010, 2011, 2011, 2011, 2011, 2012, 2012, 2012, 2012, 2013, 2013, 2013, 2013], \"xaxis\": \"x\", \"y\": [1383, 1027, 1680, 2343, 1346, 1169, 1855, 2517, 1451, 1199, 2657, 2518, 2309, 1571, 2085, 2482, 1651, 1636, 2845, 2634, 1742, 1440, 2584, 2934, 1627, 1200, 2583, 3282, 1955, 1191, 2337, 3182, 1616, 1287, 2595, 2595, 1600, 1205, 2614, 2271, 1945, 1353, 1307, 2886, 1622, 866, 1474, 3607, 1600, 1224, 1697, 3083], \"yaxis\": \"y\"}, {\"alignmentgroup\": \"True\", \"hoverlabel\": {\"namelength\": 0}, \"hovertemplate\": \"Gender=Female<br>Year=%{x}<br>Convicts in Maharashtra=%{y}\", \"legendgroup\": \"Gender=Female\", \"marker\": {\"color\": \"#FF7F0E\", \"opacity\": 0.9}, \"name\": \"Gender=Female\", \"offsetgroup\": \"Gender=Female\", \"orientation\": \"v\", \"showlegend\": true, \"textposition\": \"auto\", \"type\": \"bar\", \"x\": [2001, 2001, 2001, 2001, 2002, 2002, 2002, 2002, 2003, 2003, 2003, 2003, 2004, 2004, 2004, 2004, 2005, 2005, 2005, 2005, 2006, 2006, 2006, 2006, 2007, 2007, 2007, 2007, 2008, 2008, 2008, 2008, 2009, 2009, 2009, 2009, 2010, 2010, 2010, 2010, 2011, 2011, 2011, 2011, 2012, 2012, 2012, 2012, 2013, 2013, 2013, 2013], \"xaxis\": \"x\", \"y\": [74, 52, 69, 84, 74, 49, 66, 122, 67, 61, 120, 142, 160, 46, 138, 140, 67, 72, 109, 215, 56, 33, 147, 213, 129, 46, 161, 175, 165, 58, 114, 162, 135, 50, 162, 182, 96, 44, 221, 88, 96, 63, 156, 146, 94, 68, 65, 230, 76, 54, 135, 172], \"yaxis\": \"y\"}],\n",
              "                        {\"barmode\": \"group\", \"height\": 720, \"legend\": {\"tracegroupgap\": 0}, \"template\": {\"data\": {\"pie\": [{\"automargin\": true, \"type\": \"pie\"}]}, \"layout\": {\"xaxis\": {\"showgrid\": false, \"title\": {\"standoff\": 15}}, \"yaxis\": {\"title\": {\"standoff\": 15}}}}, \"title\": {\"text\": \"Indian Prison Statistics\"}, \"width\": 1750, \"xaxis\": {\"anchor\": \"y\", \"domain\": [0.0, 1.0], \"title\": {\"text\": \"Year\"}}, \"yaxis\": {\"anchor\": \"x\", \"domain\": [0.0, 1.0], \"title\": {\"text\": \"Convicts in Maharashtra\"}}},\n",
              "                        {\"responsive\": true}\n",
              "                    ).then(function(){\n",
              "                            \n",
              "var gd = document.getElementById('b2d9bf8d-fa1a-44ca-8994-fab749b40687');\n",
              "var x = new MutationObserver(function (mutations, observer) {{\n",
              "        var display = window.getComputedStyle(gd).display;\n",
              "        if (!display || display === 'none') {{\n",
              "            console.log([gd, 'removed!']);\n",
              "            Plotly.purge(gd);\n",
              "            observer.disconnect();\n",
              "        }}\n",
              "}});\n",
              "\n",
              "// Listen for the removal of the full notebook cells\n",
              "var notebookContainer = gd.closest('#notebook-container');\n",
              "if (notebookContainer) {{\n",
              "    x.observe(notebookContainer, {childList: true});\n",
              "}}\n",
              "\n",
              "// Listen for the clearing of the current output cell\n",
              "var outputEl = gd.closest('.output');\n",
              "if (outputEl) {{\n",
              "    x.observe(outputEl, {childList: true});\n",
              "}}\n",
              "\n",
              "                        })\n",
              "                };\n",
              "                \n",
              "            </script>\n",
              "        </div>\n",
              "</body>\n",
              "</html>"
            ]
          },
          "metadata": {
            "tags": []
          }
        }
      ]
    },
    {
      "cell_type": "markdown",
      "metadata": {
        "id": "9r6Ycq_wyPws"
      },
      "source": [
        "<h2>3. Normal Bar Chart (Overlay)</h2>"
      ]
    },
    {
      "cell_type": "code",
      "metadata": {
        "id": "NwCDLX5fxRSq",
        "outputId": "881fce06-0e5f-40a9-ac99-9b316bcd2120",
        "colab": {
          "base_uri": "https://localhost:8080/",
          "height": 737
        }
      },
      "source": [
        "barchart = px.bar(\n",
        "    data_frame=df,\n",
        "    x=\"year\",\n",
        "    y=\"convicts\",\n",
        "    color=\"gender\",               # differentiate color of marks\n",
        "    opacity=0.9,                  # set opacity of markers (from 0 to 1)\n",
        "    orientation=\"v\",              # 'v','h': orientation of the marks\n",
        "    barmode='overlay',           # in 'overlay' mode, bars are top of one another.\n",
        "                                  # in 'group' mode, bars are placed beside each other.\n",
        "                                  # in 'relative' mode, bars are stacked above (+) or below (-) zero.\n",
        "    labels={\n",
        "        \"convicts\":\"Convicts in Maharashtra\",\n",
        "        \"gender\":\"Gender\",\n",
        "        \"year\":\"Year\"},           # map the labels of the figure\n",
        "    title='Indian Prison Statistics', # figure title\n",
        "    width=1750,                   # figure width in pixels\n",
        "    height=720,                   # figure height in pixels\n",
        "    template='xgridoff',            # 'ggplot2', 'seaborn', 'simple_white', 'plotly',\n",
        "                                  # 'plotly_white', 'plotly_dark', 'presentation',\n",
        "                                  # 'xgridoff', 'ygridoff', 'gridon', 'none'\n",
        "\n",
        "\n",
        "\n",
        ")\n",
        "\n",
        "pio.show(barchart)"
      ],
      "execution_count": 34,
      "outputs": [
        {
          "output_type": "display_data",
          "data": {
            "text/html": [
              "<html>\n",
              "<head><meta charset=\"utf-8\" /></head>\n",
              "<body>\n",
              "    <div>\n",
              "            <script src=\"https://cdnjs.cloudflare.com/ajax/libs/mathjax/2.7.5/MathJax.js?config=TeX-AMS-MML_SVG\"></script><script type=\"text/javascript\">if (window.MathJax) {MathJax.Hub.Config({SVG: {font: \"STIX-Web\"}});}</script>\n",
              "                <script type=\"text/javascript\">window.PlotlyConfig = {MathJaxConfig: 'local'};</script>\n",
              "        <script src=\"https://cdn.plot.ly/plotly-latest.min.js\"></script>    \n",
              "            <div id=\"113c286c-fe0d-4908-b19d-04109f4f150b\" class=\"plotly-graph-div\" style=\"height:720px; width:1750px;\"></div>\n",
              "            <script type=\"text/javascript\">\n",
              "                \n",
              "                    window.PLOTLYENV=window.PLOTLYENV || {};\n",
              "                    \n",
              "                if (document.getElementById(\"113c286c-fe0d-4908-b19d-04109f4f150b\")) {\n",
              "                    Plotly.newPlot(\n",
              "                        '113c286c-fe0d-4908-b19d-04109f4f150b',\n",
              "                        [{\"alignmentgroup\": \"True\", \"hoverlabel\": {\"namelength\": 0}, \"hovertemplate\": \"Gender=Male<br>Year=%{x}<br>Convicts in Maharashtra=%{y}\", \"legendgroup\": \"Gender=Male\", \"marker\": {\"color\": \"#1F77B4\", \"opacity\": 0.9}, \"name\": \"Gender=Male\", \"offsetgroup\": \"Gender=Male\", \"orientation\": \"v\", \"showlegend\": true, \"textposition\": \"auto\", \"type\": \"bar\", \"x\": [2001, 2001, 2001, 2001, 2002, 2002, 2002, 2002, 2003, 2003, 2003, 2003, 2004, 2004, 2004, 2004, 2005, 2005, 2005, 2005, 2006, 2006, 2006, 2006, 2007, 2007, 2007, 2007, 2008, 2008, 2008, 2008, 2009, 2009, 2009, 2009, 2010, 2010, 2010, 2010, 2011, 2011, 2011, 2011, 2012, 2012, 2012, 2012, 2013, 2013, 2013, 2013], \"xaxis\": \"x\", \"y\": [1383, 1027, 1680, 2343, 1346, 1169, 1855, 2517, 1451, 1199, 2657, 2518, 2309, 1571, 2085, 2482, 1651, 1636, 2845, 2634, 1742, 1440, 2584, 2934, 1627, 1200, 2583, 3282, 1955, 1191, 2337, 3182, 1616, 1287, 2595, 2595, 1600, 1205, 2614, 2271, 1945, 1353, 1307, 2886, 1622, 866, 1474, 3607, 1600, 1224, 1697, 3083], \"yaxis\": \"y\"}, {\"alignmentgroup\": \"True\", \"hoverlabel\": {\"namelength\": 0}, \"hovertemplate\": \"Gender=Female<br>Year=%{x}<br>Convicts in Maharashtra=%{y}\", \"legendgroup\": \"Gender=Female\", \"marker\": {\"color\": \"#FF7F0E\", \"opacity\": 0.9}, \"name\": \"Gender=Female\", \"offsetgroup\": \"Gender=Female\", \"orientation\": \"v\", \"showlegend\": true, \"textposition\": \"auto\", \"type\": \"bar\", \"x\": [2001, 2001, 2001, 2001, 2002, 2002, 2002, 2002, 2003, 2003, 2003, 2003, 2004, 2004, 2004, 2004, 2005, 2005, 2005, 2005, 2006, 2006, 2006, 2006, 2007, 2007, 2007, 2007, 2008, 2008, 2008, 2008, 2009, 2009, 2009, 2009, 2010, 2010, 2010, 2010, 2011, 2011, 2011, 2011, 2012, 2012, 2012, 2012, 2013, 2013, 2013, 2013], \"xaxis\": \"x\", \"y\": [74, 52, 69, 84, 74, 49, 66, 122, 67, 61, 120, 142, 160, 46, 138, 140, 67, 72, 109, 215, 56, 33, 147, 213, 129, 46, 161, 175, 165, 58, 114, 162, 135, 50, 162, 182, 96, 44, 221, 88, 96, 63, 156, 146, 94, 68, 65, 230, 76, 54, 135, 172], \"yaxis\": \"y\"}],\n",
              "                        {\"barmode\": \"overlay\", \"height\": 720, \"legend\": {\"tracegroupgap\": 0}, \"template\": {\"data\": {\"pie\": [{\"automargin\": true, \"type\": \"pie\"}]}, \"layout\": {\"xaxis\": {\"showgrid\": false, \"title\": {\"standoff\": 15}}, \"yaxis\": {\"title\": {\"standoff\": 15}}}}, \"title\": {\"text\": \"Indian Prison Statistics\"}, \"width\": 1750, \"xaxis\": {\"anchor\": \"y\", \"domain\": [0.0, 1.0], \"title\": {\"text\": \"Year\"}}, \"yaxis\": {\"anchor\": \"x\", \"domain\": [0.0, 1.0], \"title\": {\"text\": \"Convicts in Maharashtra\"}}},\n",
              "                        {\"responsive\": true}\n",
              "                    ).then(function(){\n",
              "                            \n",
              "var gd = document.getElementById('113c286c-fe0d-4908-b19d-04109f4f150b');\n",
              "var x = new MutationObserver(function (mutations, observer) {{\n",
              "        var display = window.getComputedStyle(gd).display;\n",
              "        if (!display || display === 'none') {{\n",
              "            console.log([gd, 'removed!']);\n",
              "            Plotly.purge(gd);\n",
              "            observer.disconnect();\n",
              "        }}\n",
              "}});\n",
              "\n",
              "// Listen for the removal of the full notebook cells\n",
              "var notebookContainer = gd.closest('#notebook-container');\n",
              "if (notebookContainer) {{\n",
              "    x.observe(notebookContainer, {childList: true});\n",
              "}}\n",
              "\n",
              "// Listen for the clearing of the current output cell\n",
              "var outputEl = gd.closest('.output');\n",
              "if (outputEl) {{\n",
              "    x.observe(outputEl, {childList: true});\n",
              "}}\n",
              "\n",
              "                        })\n",
              "                };\n",
              "                \n",
              "            </script>\n",
              "        </div>\n",
              "</body>\n",
              "</html>"
            ]
          },
          "metadata": {
            "tags": []
          }
        }
      ]
    },
    {
      "cell_type": "markdown",
      "metadata": {
        "id": "tywFu2KCtPVf"
      },
      "source": [
        "<h2>4. Horizontal Bar Chart</h2>"
      ]
    },
    {
      "cell_type": "code",
      "metadata": {
        "id": "ZmRZmhvmylpP",
        "outputId": "b3f4e501-a586-4b9b-d9fd-42707a55c147",
        "colab": {
          "base_uri": "https://localhost:8080/",
          "height": 737
        }
      },
      "source": [
        "barchart = px.bar(\n",
        "    data_frame=df,\n",
        "    x=\"convicts\",\n",
        "    y=\"year\",\n",
        "    color=\"gender\",               # differentiate color of marks\n",
        "    opacity=0.9,                  # set opacity of markers (from 0 to 1)\n",
        "    orientation=\"h\",              # 'v','h': orientation of the marks\n",
        "    barmode='relative',           # in 'overlay' mode, bars are top of one another.\n",
        "                                  # in 'group' mode, bars are placed beside each other.\n",
        "                                  # in 'relative' mode, bars are stacked above (+) or below (-) zero.\n",
        "    labels={\n",
        "        \"convicts\":\"Convicts in Maharashtra\",\n",
        "        \"gender\":\"Gender\",\n",
        "        \"year\":\"Year\"},           # map the labels of the figure\n",
        "    title='Indian Prison Statistics', # figure title\n",
        "    width=1700,                   # figure width in pixels\n",
        "    height=720,                   # figure height in pixels\n",
        "    template='xgridoff',            # 'ggplot2', 'seaborn', 'simple_white', 'plotly',\n",
        "                                  # 'plotly_white', 'plotly_dark', 'presentation',\n",
        "                                  # 'xgridoff', 'ygridoff', 'gridon', 'none'\n",
        "\n",
        "\n",
        "\n",
        ")\n",
        "\n",
        "pio.show(barchart)"
      ],
      "execution_count": 25,
      "outputs": [
        {
          "output_type": "display_data",
          "data": {
            "text/html": [
              "<html>\n",
              "<head><meta charset=\"utf-8\" /></head>\n",
              "<body>\n",
              "    <div>\n",
              "            <script src=\"https://cdnjs.cloudflare.com/ajax/libs/mathjax/2.7.5/MathJax.js?config=TeX-AMS-MML_SVG\"></script><script type=\"text/javascript\">if (window.MathJax) {MathJax.Hub.Config({SVG: {font: \"STIX-Web\"}});}</script>\n",
              "                <script type=\"text/javascript\">window.PlotlyConfig = {MathJaxConfig: 'local'};</script>\n",
              "        <script src=\"https://cdn.plot.ly/plotly-latest.min.js\"></script>    \n",
              "            <div id=\"67aed983-99e3-4370-9908-4a5eccff8ec8\" class=\"plotly-graph-div\" style=\"height:720px; width:1700px;\"></div>\n",
              "            <script type=\"text/javascript\">\n",
              "                \n",
              "                    window.PLOTLYENV=window.PLOTLYENV || {};\n",
              "                    \n",
              "                if (document.getElementById(\"67aed983-99e3-4370-9908-4a5eccff8ec8\")) {\n",
              "                    Plotly.newPlot(\n",
              "                        '67aed983-99e3-4370-9908-4a5eccff8ec8',\n",
              "                        [{\"alignmentgroup\": \"True\", \"hoverlabel\": {\"namelength\": 0}, \"hovertemplate\": \"Gender=Female<br>Convicts in Maharashtra=%{x}<br>Year=%{y}\", \"legendgroup\": \"Gender=Female\", \"marker\": {\"color\": \"#1F77B4\", \"opacity\": 0.9}, \"name\": \"Gender=Female\", \"offsetgroup\": \"Gender=Female\", \"orientation\": \"h\", \"showlegend\": true, \"textposition\": \"auto\", \"type\": \"bar\", \"x\": [279, 311, 390, 484, 463, 449, 511, 499, 529, 449, 461, 457, 437], \"xaxis\": \"x\", \"y\": [2001, 2002, 2003, 2004, 2005, 2006, 2007, 2008, 2009, 2010, 2011, 2012, 2013], \"yaxis\": \"y\"}, {\"alignmentgroup\": \"True\", \"hoverlabel\": {\"namelength\": 0}, \"hovertemplate\": \"Gender=Male<br>Convicts in Maharashtra=%{x}<br>Year=%{y}\", \"legendgroup\": \"Gender=Male\", \"marker\": {\"color\": \"#FF7F0E\", \"opacity\": 0.9}, \"name\": \"Gender=Male\", \"offsetgroup\": \"Gender=Male\", \"orientation\": \"h\", \"showlegend\": true, \"textposition\": \"auto\", \"type\": \"bar\", \"x\": [6433, 6887, 7825, 8447, 8766, 8700, 8692, 8665, 8093, 7690, 7491, 7569, 7604], \"xaxis\": \"x\", \"y\": [2001, 2002, 2003, 2004, 2005, 2006, 2007, 2008, 2009, 2010, 2011, 2012, 2013], \"yaxis\": \"y\"}],\n",
              "                        {\"barmode\": \"relative\", \"height\": 720, \"legend\": {\"tracegroupgap\": 0}, \"template\": {\"data\": {\"pie\": [{\"automargin\": true, \"type\": \"pie\"}]}, \"layout\": {\"xaxis\": {\"showgrid\": false, \"title\": {\"standoff\": 15}}, \"yaxis\": {\"title\": {\"standoff\": 15}}}}, \"title\": {\"text\": \"Indian Prison Statistics\"}, \"width\": 1700, \"xaxis\": {\"anchor\": \"y\", \"domain\": [0.0, 1.0], \"title\": {\"text\": \"Convicts in Maharashtra\"}}, \"yaxis\": {\"anchor\": \"x\", \"domain\": [0.0, 1.0], \"title\": {\"text\": \"Year\"}}},\n",
              "                        {\"responsive\": true}\n",
              "                    ).then(function(){\n",
              "                            \n",
              "var gd = document.getElementById('67aed983-99e3-4370-9908-4a5eccff8ec8');\n",
              "var x = new MutationObserver(function (mutations, observer) {{\n",
              "        var display = window.getComputedStyle(gd).display;\n",
              "        if (!display || display === 'none') {{\n",
              "            console.log([gd, 'removed!']);\n",
              "            Plotly.purge(gd);\n",
              "            observer.disconnect();\n",
              "        }}\n",
              "}});\n",
              "\n",
              "// Listen for the removal of the full notebook cells\n",
              "var notebookContainer = gd.closest('#notebook-container');\n",
              "if (notebookContainer) {{\n",
              "    x.observe(notebookContainer, {childList: true});\n",
              "}}\n",
              "\n",
              "// Listen for the clearing of the current output cell\n",
              "var outputEl = gd.closest('.output');\n",
              "if (outputEl) {{\n",
              "    x.observe(outputEl, {childList: true});\n",
              "}}\n",
              "\n",
              "                        })\n",
              "                };\n",
              "                \n",
              "            </script>\n",
              "        </div>\n",
              "</body>\n",
              "</html>"
            ]
          },
          "metadata": {
            "tags": []
          }
        }
      ]
    },
    {
      "cell_type": "markdown",
      "metadata": {
        "id": "VzmE-Lqky3lA"
      },
      "source": [
        "<h2>5. Vertical Bar Chart (Facet Row)</h2>\n",
        "\n"
      ]
    },
    {
      "cell_type": "code",
      "metadata": {
        "id": "OM5I6btAy4lg",
        "outputId": "3a66da60-2886-4671-bced-561e694bedd0",
        "colab": {
          "base_uri": "https://localhost:8080/",
          "height": 737
        }
      },
      "source": [
        "barchart = px.bar(\n",
        "    data_frame=df,\n",
        "    x=\"year\",\n",
        "    y=\"convicts\",\n",
        "    color=\"gender\",               # differentiate color of marks\n",
        "    opacity=0.9,                  # set opacity of markers (from 0 to 1)\n",
        "    orientation=\"v\",              # 'v','h': orientation of the marks\n",
        "    barmode='relative',           # in 'overlay' mode, bars are top of one another.\n",
        "                                  # in 'group' mode, bars are placed beside each other.\n",
        "                                  # in 'relative' mode, bars are stacked above (+) or below (-) zero.\n",
        "    #----------------------------------------------------------------------------------------------\n",
        "    facet_row='caste',          # assign marks to subplots in the vertical direction\n",
        "    # facet_col='caste',          # assigns marks to subplots in the horizontal direction\n",
        "    # facet_col_wrap=2,           # maximum number of subplot columns. Do not set facet_row!\n",
        "\n",
        "    labels={\n",
        "        \"convicts\":\"Convicts in Maharashtra\",\n",
        "        \"gender\":\"Gender\",\n",
        "        \"year\":\"Year\"},           # map the labels of the figure\n",
        "    title='Indian Prison Statistics', # figure title\n",
        "    width=1700,                   # figure width in pixels\n",
        "    height=720,                   # figure height in pixels\n",
        "    template='xgridoff',            # 'ggplot2', 'seaborn', 'simple_white', 'plotly',\n",
        "                                  # 'plotly_white', 'plotly_dark', 'presentation',\n",
        "                                  # 'xgridoff', 'ygridoff', 'gridon', 'none'\n",
        "\n",
        "\n",
        ")\n",
        "\n",
        "pio.show(barchart)"
      ],
      "execution_count": 33,
      "outputs": [
        {
          "output_type": "display_data",
          "data": {
            "text/html": [
              "<html>\n",
              "<head><meta charset=\"utf-8\" /></head>\n",
              "<body>\n",
              "    <div>\n",
              "            <script src=\"https://cdnjs.cloudflare.com/ajax/libs/mathjax/2.7.5/MathJax.js?config=TeX-AMS-MML_SVG\"></script><script type=\"text/javascript\">if (window.MathJax) {MathJax.Hub.Config({SVG: {font: \"STIX-Web\"}});}</script>\n",
              "                <script type=\"text/javascript\">window.PlotlyConfig = {MathJaxConfig: 'local'};</script>\n",
              "        <script src=\"https://cdn.plot.ly/plotly-latest.min.js\"></script>    \n",
              "            <div id=\"c9e92d00-eb4e-4237-a64e-ac1cb90dd506\" class=\"plotly-graph-div\" style=\"height:720px; width:1700px;\"></div>\n",
              "            <script type=\"text/javascript\">\n",
              "                \n",
              "                    window.PLOTLYENV=window.PLOTLYENV || {};\n",
              "                    \n",
              "                if (document.getElementById(\"c9e92d00-eb4e-4237-a64e-ac1cb90dd506\")) {\n",
              "                    Plotly.newPlot(\n",
              "                        'c9e92d00-eb4e-4237-a64e-ac1cb90dd506',\n",
              "                        [{\"alignmentgroup\": \"True\", \"hoverlabel\": {\"namelength\": 0}, \"hovertemplate\": \"Gender=Male<br>caste=SC<br>Year=%{x}<br>Convicts in Maharashtra=%{y}\", \"legendgroup\": \"Gender=Male\", \"marker\": {\"color\": \"#1F77B4\", \"opacity\": 0.9}, \"name\": \"Gender=Male\", \"offsetgroup\": \"Gender=Male\", \"orientation\": \"v\", \"showlegend\": true, \"textposition\": \"auto\", \"type\": \"bar\", \"x\": [2001, 2002, 2003, 2004, 2005, 2006, 2007, 2008, 2009, 2010, 2011, 2012, 2013], \"xaxis\": \"x4\", \"y\": [1383, 1346, 1451, 2309, 1651, 1742, 1627, 1955, 1616, 1600, 1945, 1622, 1600], \"yaxis\": \"y4\"}, {\"alignmentgroup\": \"True\", \"hoverlabel\": {\"namelength\": 0}, \"hovertemplate\": \"Gender=Male<br>caste=ST<br>Year=%{x}<br>Convicts in Maharashtra=%{y}\", \"legendgroup\": \"Gender=Male\", \"marker\": {\"color\": \"#1F77B4\", \"opacity\": 0.9}, \"name\": \"Gender=Male\", \"offsetgroup\": \"Gender=Male\", \"orientation\": \"v\", \"showlegend\": false, \"textposition\": \"auto\", \"type\": \"bar\", \"x\": [2001, 2002, 2003, 2004, 2005, 2006, 2007, 2008, 2009, 2010, 2011, 2012, 2013], \"xaxis\": \"x3\", \"y\": [1027, 1169, 1199, 1571, 1636, 1440, 1200, 1191, 1287, 1205, 1353, 866, 1224], \"yaxis\": \"y3\"}, {\"alignmentgroup\": \"True\", \"hoverlabel\": {\"namelength\": 0}, \"hovertemplate\": \"Gender=Male<br>caste=OBC<br>Year=%{x}<br>Convicts in Maharashtra=%{y}\", \"legendgroup\": \"Gender=Male\", \"marker\": {\"color\": \"#1F77B4\", \"opacity\": 0.9}, \"name\": \"Gender=Male\", \"offsetgroup\": \"Gender=Male\", \"orientation\": \"v\", \"showlegend\": false, \"textposition\": \"auto\", \"type\": \"bar\", \"x\": [2001, 2002, 2003, 2004, 2005, 2006, 2007, 2008, 2009, 2010, 2011, 2012, 2013], \"xaxis\": \"x2\", \"y\": [1680, 1855, 2657, 2085, 2845, 2584, 2583, 2337, 2595, 2614, 1307, 1474, 1697], \"yaxis\": \"y2\"}, {\"alignmentgroup\": \"True\", \"hoverlabel\": {\"namelength\": 0}, \"hovertemplate\": \"Gender=Male<br>caste=Others<br>Year=%{x}<br>Convicts in Maharashtra=%{y}\", \"legendgroup\": \"Gender=Male\", \"marker\": {\"color\": \"#1F77B4\", \"opacity\": 0.9}, \"name\": \"Gender=Male\", \"offsetgroup\": \"Gender=Male\", \"orientation\": \"v\", \"showlegend\": false, \"textposition\": \"auto\", \"type\": \"bar\", \"x\": [2001, 2002, 2003, 2004, 2005, 2006, 2007, 2008, 2009, 2010, 2011, 2012, 2013], \"xaxis\": \"x\", \"y\": [2343, 2517, 2518, 2482, 2634, 2934, 3282, 3182, 2595, 2271, 2886, 3607, 3083], \"yaxis\": \"y\"}, {\"alignmentgroup\": \"True\", \"hoverlabel\": {\"namelength\": 0}, \"hovertemplate\": \"Gender=Female<br>caste=SC<br>Year=%{x}<br>Convicts in Maharashtra=%{y}\", \"legendgroup\": \"Gender=Female\", \"marker\": {\"color\": \"#FF7F0E\", \"opacity\": 0.9}, \"name\": \"Gender=Female\", \"offsetgroup\": \"Gender=Female\", \"orientation\": \"v\", \"showlegend\": true, \"textposition\": \"auto\", \"type\": \"bar\", \"x\": [2001, 2002, 2003, 2004, 2005, 2006, 2007, 2008, 2009, 2010, 2011, 2012, 2013], \"xaxis\": \"x4\", \"y\": [74, 74, 67, 160, 67, 56, 129, 165, 135, 96, 96, 94, 76], \"yaxis\": \"y4\"}, {\"alignmentgroup\": \"True\", \"hoverlabel\": {\"namelength\": 0}, \"hovertemplate\": \"Gender=Female<br>caste=ST<br>Year=%{x}<br>Convicts in Maharashtra=%{y}\", \"legendgroup\": \"Gender=Female\", \"marker\": {\"color\": \"#FF7F0E\", \"opacity\": 0.9}, \"name\": \"Gender=Female\", \"offsetgroup\": \"Gender=Female\", \"orientation\": \"v\", \"showlegend\": false, \"textposition\": \"auto\", \"type\": \"bar\", \"x\": [2001, 2002, 2003, 2004, 2005, 2006, 2007, 2008, 2009, 2010, 2011, 2012, 2013], \"xaxis\": \"x3\", \"y\": [52, 49, 61, 46, 72, 33, 46, 58, 50, 44, 63, 68, 54], \"yaxis\": \"y3\"}, {\"alignmentgroup\": \"True\", \"hoverlabel\": {\"namelength\": 0}, \"hovertemplate\": \"Gender=Female<br>caste=OBC<br>Year=%{x}<br>Convicts in Maharashtra=%{y}\", \"legendgroup\": \"Gender=Female\", \"marker\": {\"color\": \"#FF7F0E\", \"opacity\": 0.9}, \"name\": \"Gender=Female\", \"offsetgroup\": \"Gender=Female\", \"orientation\": \"v\", \"showlegend\": false, \"textposition\": \"auto\", \"type\": \"bar\", \"x\": [2001, 2002, 2003, 2004, 2005, 2006, 2007, 2008, 2009, 2010, 2011, 2012, 2013], \"xaxis\": \"x2\", \"y\": [69, 66, 120, 138, 109, 147, 161, 114, 162, 221, 156, 65, 135], \"yaxis\": \"y2\"}, {\"alignmentgroup\": \"True\", \"hoverlabel\": {\"namelength\": 0}, \"hovertemplate\": \"Gender=Female<br>caste=Others<br>Year=%{x}<br>Convicts in Maharashtra=%{y}\", \"legendgroup\": \"Gender=Female\", \"marker\": {\"color\": \"#FF7F0E\", \"opacity\": 0.9}, \"name\": \"Gender=Female\", \"offsetgroup\": \"Gender=Female\", \"orientation\": \"v\", \"showlegend\": false, \"textposition\": \"auto\", \"type\": \"bar\", \"x\": [2001, 2002, 2003, 2004, 2005, 2006, 2007, 2008, 2009, 2010, 2011, 2012, 2013], \"xaxis\": \"x\", \"y\": [84, 122, 142, 140, 215, 213, 175, 162, 182, 88, 146, 230, 172], \"yaxis\": \"y\"}],\n",
              "                        {\"annotations\": [{\"font\": {}, \"showarrow\": false, \"text\": \"caste=Others\", \"textangle\": 90, \"x\": 0.98, \"xanchor\": \"left\", \"xref\": \"paper\", \"y\": 0.11375, \"yanchor\": \"middle\", \"yref\": \"paper\"}, {\"font\": {}, \"showarrow\": false, \"text\": \"caste=OBC\", \"textangle\": 90, \"x\": 0.98, \"xanchor\": \"left\", \"xref\": \"paper\", \"y\": 0.37124999999999997, \"yanchor\": \"middle\", \"yref\": \"paper\"}, {\"font\": {}, \"showarrow\": false, \"text\": \"caste=ST\", \"textangle\": 90, \"x\": 0.98, \"xanchor\": \"left\", \"xref\": \"paper\", \"y\": 0.62875, \"yanchor\": \"middle\", \"yref\": \"paper\"}, {\"font\": {}, \"showarrow\": false, \"text\": \"caste=SC\", \"textangle\": 90, \"x\": 0.98, \"xanchor\": \"left\", \"xref\": \"paper\", \"y\": 0.88625, \"yanchor\": \"middle\", \"yref\": \"paper\"}], \"barmode\": \"relative\", \"height\": 720, \"legend\": {\"tracegroupgap\": 0}, \"template\": {\"data\": {\"pie\": [{\"automargin\": true, \"type\": \"pie\"}]}, \"layout\": {\"xaxis\": {\"showgrid\": false, \"title\": {\"standoff\": 15}}, \"yaxis\": {\"title\": {\"standoff\": 15}}}}, \"title\": {\"text\": \"Indian Prison Statistics\"}, \"width\": 1700, \"xaxis\": {\"anchor\": \"y\", \"domain\": [0.0, 0.98], \"title\": {\"text\": \"Year\"}}, \"xaxis2\": {\"anchor\": \"y2\", \"domain\": [0.0, 0.98], \"matches\": \"x\", \"showticklabels\": false}, \"xaxis3\": {\"anchor\": \"y3\", \"domain\": [0.0, 0.98], \"matches\": \"x\", \"showticklabels\": false}, \"xaxis4\": {\"anchor\": \"y4\", \"domain\": [0.0, 0.98], \"matches\": \"x\", \"showticklabels\": false}, \"yaxis\": {\"anchor\": \"x\", \"domain\": [0.0, 0.2275], \"title\": {\"text\": \"Convicts in Maharashtra\"}}, \"yaxis2\": {\"anchor\": \"x2\", \"domain\": [0.2575, 0.485], \"matches\": \"y\", \"title\": {\"text\": \"Convicts in Maharashtra\"}}, \"yaxis3\": {\"anchor\": \"x3\", \"domain\": [0.515, 0.7425], \"matches\": \"y\", \"title\": {\"text\": \"Convicts in Maharashtra\"}}, \"yaxis4\": {\"anchor\": \"x4\", \"domain\": [0.7725, 1.0], \"matches\": \"y\", \"title\": {\"text\": \"Convicts in Maharashtra\"}}},\n",
              "                        {\"responsive\": true}\n",
              "                    ).then(function(){\n",
              "                            \n",
              "var gd = document.getElementById('c9e92d00-eb4e-4237-a64e-ac1cb90dd506');\n",
              "var x = new MutationObserver(function (mutations, observer) {{\n",
              "        var display = window.getComputedStyle(gd).display;\n",
              "        if (!display || display === 'none') {{\n",
              "            console.log([gd, 'removed!']);\n",
              "            Plotly.purge(gd);\n",
              "            observer.disconnect();\n",
              "        }}\n",
              "}});\n",
              "\n",
              "// Listen for the removal of the full notebook cells\n",
              "var notebookContainer = gd.closest('#notebook-container');\n",
              "if (notebookContainer) {{\n",
              "    x.observe(notebookContainer, {childList: true});\n",
              "}}\n",
              "\n",
              "// Listen for the clearing of the current output cell\n",
              "var outputEl = gd.closest('.output');\n",
              "if (outputEl) {{\n",
              "    x.observe(outputEl, {childList: true});\n",
              "}}\n",
              "\n",
              "                        })\n",
              "                };\n",
              "                \n",
              "            </script>\n",
              "        </div>\n",
              "</body>\n",
              "</html>"
            ]
          },
          "metadata": {
            "tags": []
          }
        }
      ]
    },
    {
      "cell_type": "markdown",
      "metadata": {
        "id": "bfpu5oVHzQnn"
      },
      "source": [
        "<h2>6. Vertical Bar Chart (Facet Row With Column Wrap)</h2>\n",
        "\n"
      ]
    },
    {
      "cell_type": "code",
      "metadata": {
        "id": "nM-F-6bkzRUQ",
        "outputId": "a9226cf6-83ff-47c0-d50d-49a8abc7cf40",
        "colab": {
          "base_uri": "https://localhost:8080/",
          "height": 737
        }
      },
      "source": [
        "barchart = px.bar(\n",
        "    data_frame=df,\n",
        "    x=\"year\",\n",
        "    y=\"convicts\",\n",
        "    color=\"gender\",               # differentiate color of marks\n",
        "    opacity=0.9,                  # set opacity of markers (from 0 to 1)\n",
        "    orientation=\"v\",              # 'v','h': orientation of the marks\n",
        "    barmode='relative',           # in 'overlay' mode, bars are top of one another.\n",
        "                                  # in 'group' mode, bars are placed beside each other.\n",
        "                                  # in 'relative' mode, bars are stacked above (+) or below (-) zero.\n",
        "    #----------------------------------------------------------------------------------------------\n",
        "    # facet_row='caste',          # assign marks to subplots in the vertical direction\n",
        "    facet_col='caste',          # assigns marks to subplots in the horizontal direction\n",
        "    facet_col_wrap=2,           # maximum number of subplot columns. Do not set facet_row!\n",
        "\n",
        "    labels={\n",
        "        \"convicts\":\"Convicts in Maharashtra\",\n",
        "        \"gender\":\"Gender\",\n",
        "        \"year\":\"Year\"},           # map the labels of the figure\n",
        "    title='Indian Prison Statistics', # figure title\n",
        "    width=1750,                   # figure width in pixels\n",
        "    height=720,                   # figure height in pixels\n",
        "    template='xgridoff',            # 'ggplot2', 'seaborn', 'simple_white', 'plotly',\n",
        "                                  # 'plotly_white', 'plotly_dark', 'presentation',\n",
        "                                  # 'xgridoff', 'ygridoff', 'gridon', 'none'\n",
        "\n",
        "\n",
        ")\n",
        "\n",
        "pio.show(barchart)"
      ],
      "execution_count": 37,
      "outputs": [
        {
          "output_type": "display_data",
          "data": {
            "text/html": [
              "<html>\n",
              "<head><meta charset=\"utf-8\" /></head>\n",
              "<body>\n",
              "    <div>\n",
              "            <script src=\"https://cdnjs.cloudflare.com/ajax/libs/mathjax/2.7.5/MathJax.js?config=TeX-AMS-MML_SVG\"></script><script type=\"text/javascript\">if (window.MathJax) {MathJax.Hub.Config({SVG: {font: \"STIX-Web\"}});}</script>\n",
              "                <script type=\"text/javascript\">window.PlotlyConfig = {MathJaxConfig: 'local'};</script>\n",
              "        <script src=\"https://cdn.plot.ly/plotly-latest.min.js\"></script>    \n",
              "            <div id=\"c90d8630-edc9-4424-9348-e57c598afe65\" class=\"plotly-graph-div\" style=\"height:720px; width:1750px;\"></div>\n",
              "            <script type=\"text/javascript\">\n",
              "                \n",
              "                    window.PLOTLYENV=window.PLOTLYENV || {};\n",
              "                    \n",
              "                if (document.getElementById(\"c90d8630-edc9-4424-9348-e57c598afe65\")) {\n",
              "                    Plotly.newPlot(\n",
              "                        'c90d8630-edc9-4424-9348-e57c598afe65',\n",
              "                        [{\"alignmentgroup\": \"True\", \"hoverlabel\": {\"namelength\": 0}, \"hovertemplate\": \"Gender=Male<br>caste=SC<br>Year=%{x}<br>Convicts in Maharashtra=%{y}\", \"legendgroup\": \"Gender=Male\", \"marker\": {\"color\": \"#1F77B4\", \"opacity\": 0.9}, \"name\": \"Gender=Male\", \"offsetgroup\": \"Gender=Male\", \"orientation\": \"v\", \"showlegend\": true, \"textposition\": \"auto\", \"type\": \"bar\", \"x\": [2001, 2002, 2003, 2004, 2005, 2006, 2007, 2008, 2009, 2010, 2011, 2012, 2013], \"xaxis\": \"x3\", \"y\": [1383, 1346, 1451, 2309, 1651, 1742, 1627, 1955, 1616, 1600, 1945, 1622, 1600], \"yaxis\": \"y3\"}, {\"alignmentgroup\": \"True\", \"hoverlabel\": {\"namelength\": 0}, \"hovertemplate\": \"Gender=Male<br>caste=ST<br>Year=%{x}<br>Convicts in Maharashtra=%{y}\", \"legendgroup\": \"Gender=Male\", \"marker\": {\"color\": \"#1F77B4\", \"opacity\": 0.9}, \"name\": \"Gender=Male\", \"offsetgroup\": \"Gender=Male\", \"orientation\": \"v\", \"showlegend\": false, \"textposition\": \"auto\", \"type\": \"bar\", \"x\": [2001, 2002, 2003, 2004, 2005, 2006, 2007, 2008, 2009, 2010, 2011, 2012, 2013], \"xaxis\": \"x4\", \"y\": [1027, 1169, 1199, 1571, 1636, 1440, 1200, 1191, 1287, 1205, 1353, 866, 1224], \"yaxis\": \"y4\"}, {\"alignmentgroup\": \"True\", \"hoverlabel\": {\"namelength\": 0}, \"hovertemplate\": \"Gender=Male<br>caste=OBC<br>Year=%{x}<br>Convicts in Maharashtra=%{y}\", \"legendgroup\": \"Gender=Male\", \"marker\": {\"color\": \"#1F77B4\", \"opacity\": 0.9}, \"name\": \"Gender=Male\", \"offsetgroup\": \"Gender=Male\", \"orientation\": \"v\", \"showlegend\": false, \"textposition\": \"auto\", \"type\": \"bar\", \"x\": [2001, 2002, 2003, 2004, 2005, 2006, 2007, 2008, 2009, 2010, 2011, 2012, 2013], \"xaxis\": \"x\", \"y\": [1680, 1855, 2657, 2085, 2845, 2584, 2583, 2337, 2595, 2614, 1307, 1474, 1697], \"yaxis\": \"y\"}, {\"alignmentgroup\": \"True\", \"hoverlabel\": {\"namelength\": 0}, \"hovertemplate\": \"Gender=Male<br>caste=Others<br>Year=%{x}<br>Convicts in Maharashtra=%{y}\", \"legendgroup\": \"Gender=Male\", \"marker\": {\"color\": \"#1F77B4\", \"opacity\": 0.9}, \"name\": \"Gender=Male\", \"offsetgroup\": \"Gender=Male\", \"orientation\": \"v\", \"showlegend\": false, \"textposition\": \"auto\", \"type\": \"bar\", \"x\": [2001, 2002, 2003, 2004, 2005, 2006, 2007, 2008, 2009, 2010, 2011, 2012, 2013], \"xaxis\": \"x2\", \"y\": [2343, 2517, 2518, 2482, 2634, 2934, 3282, 3182, 2595, 2271, 2886, 3607, 3083], \"yaxis\": \"y2\"}, {\"alignmentgroup\": \"True\", \"hoverlabel\": {\"namelength\": 0}, \"hovertemplate\": \"Gender=Female<br>caste=SC<br>Year=%{x}<br>Convicts in Maharashtra=%{y}\", \"legendgroup\": \"Gender=Female\", \"marker\": {\"color\": \"#FF7F0E\", \"opacity\": 0.9}, \"name\": \"Gender=Female\", \"offsetgroup\": \"Gender=Female\", \"orientation\": \"v\", \"showlegend\": true, \"textposition\": \"auto\", \"type\": \"bar\", \"x\": [2001, 2002, 2003, 2004, 2005, 2006, 2007, 2008, 2009, 2010, 2011, 2012, 2013], \"xaxis\": \"x3\", \"y\": [74, 74, 67, 160, 67, 56, 129, 165, 135, 96, 96, 94, 76], \"yaxis\": \"y3\"}, {\"alignmentgroup\": \"True\", \"hoverlabel\": {\"namelength\": 0}, \"hovertemplate\": \"Gender=Female<br>caste=ST<br>Year=%{x}<br>Convicts in Maharashtra=%{y}\", \"legendgroup\": \"Gender=Female\", \"marker\": {\"color\": \"#FF7F0E\", \"opacity\": 0.9}, \"name\": \"Gender=Female\", \"offsetgroup\": \"Gender=Female\", \"orientation\": \"v\", \"showlegend\": false, \"textposition\": \"auto\", \"type\": \"bar\", \"x\": [2001, 2002, 2003, 2004, 2005, 2006, 2007, 2008, 2009, 2010, 2011, 2012, 2013], \"xaxis\": \"x4\", \"y\": [52, 49, 61, 46, 72, 33, 46, 58, 50, 44, 63, 68, 54], \"yaxis\": \"y4\"}, {\"alignmentgroup\": \"True\", \"hoverlabel\": {\"namelength\": 0}, \"hovertemplate\": \"Gender=Female<br>caste=OBC<br>Year=%{x}<br>Convicts in Maharashtra=%{y}\", \"legendgroup\": \"Gender=Female\", \"marker\": {\"color\": \"#FF7F0E\", \"opacity\": 0.9}, \"name\": \"Gender=Female\", \"offsetgroup\": \"Gender=Female\", \"orientation\": \"v\", \"showlegend\": false, \"textposition\": \"auto\", \"type\": \"bar\", \"x\": [2001, 2002, 2003, 2004, 2005, 2006, 2007, 2008, 2009, 2010, 2011, 2012, 2013], \"xaxis\": \"x\", \"y\": [69, 66, 120, 138, 109, 147, 161, 114, 162, 221, 156, 65, 135], \"yaxis\": \"y\"}, {\"alignmentgroup\": \"True\", \"hoverlabel\": {\"namelength\": 0}, \"hovertemplate\": \"Gender=Female<br>caste=Others<br>Year=%{x}<br>Convicts in Maharashtra=%{y}\", \"legendgroup\": \"Gender=Female\", \"marker\": {\"color\": \"#FF7F0E\", \"opacity\": 0.9}, \"name\": \"Gender=Female\", \"offsetgroup\": \"Gender=Female\", \"orientation\": \"v\", \"showlegend\": false, \"textposition\": \"auto\", \"type\": \"bar\", \"x\": [2001, 2002, 2003, 2004, 2005, 2006, 2007, 2008, 2009, 2010, 2011, 2012, 2013], \"xaxis\": \"x2\", \"y\": [84, 122, 142, 140, 215, 213, 175, 162, 182, 88, 146, 230, 172], \"yaxis\": \"y2\"}],\n",
              "                        {\"annotations\": [{\"font\": {}, \"showarrow\": false, \"text\": \"caste=OBC\", \"x\": 0.245, \"xanchor\": \"center\", \"xref\": \"paper\", \"y\": 0.46499999999999997, \"yanchor\": \"bottom\", \"yref\": \"paper\"}, {\"font\": {}, \"showarrow\": false, \"text\": \"caste=Others\", \"x\": 0.755, \"xanchor\": \"center\", \"xref\": \"paper\", \"y\": 0.46499999999999997, \"yanchor\": \"bottom\", \"yref\": \"paper\"}, {\"font\": {}, \"showarrow\": false, \"text\": \"caste=SC\", \"x\": 0.245, \"xanchor\": \"center\", \"xref\": \"paper\", \"y\": 0.9999999999999999, \"yanchor\": \"bottom\", \"yref\": \"paper\"}, {\"font\": {}, \"showarrow\": false, \"text\": \"caste=ST\", \"x\": 0.755, \"xanchor\": \"center\", \"xref\": \"paper\", \"y\": 0.9999999999999999, \"yanchor\": \"bottom\", \"yref\": \"paper\"}], \"barmode\": \"relative\", \"height\": 720, \"legend\": {\"tracegroupgap\": 0}, \"template\": {\"data\": {\"pie\": [{\"automargin\": true, \"type\": \"pie\"}]}, \"layout\": {\"xaxis\": {\"showgrid\": false, \"title\": {\"standoff\": 15}}, \"yaxis\": {\"title\": {\"standoff\": 15}}}}, \"title\": {\"text\": \"Indian Prison Statistics\"}, \"width\": 1750, \"xaxis\": {\"anchor\": \"y\", \"domain\": [0.0, 0.49], \"title\": {\"text\": \"Year\"}}, \"xaxis2\": {\"anchor\": \"y2\", \"domain\": [0.51, 1.0], \"matches\": \"x\", \"title\": {\"text\": \"Year\"}}, \"xaxis3\": {\"anchor\": \"y3\", \"domain\": [0.0, 0.49], \"matches\": \"x\", \"showticklabels\": false}, \"xaxis4\": {\"anchor\": \"y4\", \"domain\": [0.51, 1.0], \"matches\": \"x\", \"showticklabels\": false}, \"yaxis\": {\"anchor\": \"x\", \"domain\": [0.0, 0.46499999999999997], \"title\": {\"text\": \"Convicts in Maharashtra\"}}, \"yaxis2\": {\"anchor\": \"x2\", \"domain\": [0.0, 0.46499999999999997], \"matches\": \"y\", \"showticklabels\": false}, \"yaxis3\": {\"anchor\": \"x3\", \"domain\": [0.5349999999999999, 0.9999999999999999], \"matches\": \"y\", \"title\": {\"text\": \"Convicts in Maharashtra\"}}, \"yaxis4\": {\"anchor\": \"x4\", \"domain\": [0.5349999999999999, 0.9999999999999999], \"matches\": \"y\", \"showticklabels\": false}},\n",
              "                        {\"responsive\": true}\n",
              "                    ).then(function(){\n",
              "                            \n",
              "var gd = document.getElementById('c90d8630-edc9-4424-9348-e57c598afe65');\n",
              "var x = new MutationObserver(function (mutations, observer) {{\n",
              "        var display = window.getComputedStyle(gd).display;\n",
              "        if (!display || display === 'none') {{\n",
              "            console.log([gd, 'removed!']);\n",
              "            Plotly.purge(gd);\n",
              "            observer.disconnect();\n",
              "        }}\n",
              "}});\n",
              "\n",
              "// Listen for the removal of the full notebook cells\n",
              "var notebookContainer = gd.closest('#notebook-container');\n",
              "if (notebookContainer) {{\n",
              "    x.observe(notebookContainer, {childList: true});\n",
              "}}\n",
              "\n",
              "// Listen for the clearing of the current output cell\n",
              "var outputEl = gd.closest('.output');\n",
              "if (outputEl) {{\n",
              "    x.observe(outputEl, {childList: true});\n",
              "}}\n",
              "\n",
              "                        })\n",
              "                };\n",
              "                \n",
              "            </script>\n",
              "        </div>\n",
              "</body>\n",
              "</html>"
            ]
          },
          "metadata": {
            "tags": []
          }
        }
      ]
    },
    {
      "cell_type": "markdown",
      "metadata": {
        "id": "RVb68ybB0oGq"
      },
      "source": [
        "<h2>7. Vertical Bar Chart (Continuous Colour - Heatmap)</h2>"
      ]
    },
    {
      "cell_type": "code",
      "metadata": {
        "id": "kSD3uXEH0oXe",
        "outputId": "a5e72040-6392-437b-92e6-ea5d5c6492ee",
        "colab": {
          "base_uri": "https://localhost:8080/",
          "height": 737
        }
      },
      "source": [
        "barchart = px.bar(\n",
        "    data_frame=df,\n",
        "    x=\"year\",\n",
        "    y=\"convicts\",\n",
        "    color=\"convicts\",               # differentiate color of marks\n",
        "    opacity=0.9,                  # set opacity of markers (from 0 to 1)\n",
        "    orientation=\"v\",              # 'v','h': orientation of the marks\n",
        "    barmode='relative',           # in 'overlay' mode, bars are top of one another.\n",
        "                                  # in 'group' mode, bars are placed beside each other.\n",
        "                                  # in 'relative' mode, bars are stacked above (+) or below (-) zero.\n",
        "    #----------------------------------------------------------------------------------------------\n",
        "    # color_discrete_sequence=[\"pink\",\"yellow\"],               # set specific marker colors. Color-colum data cannot be numeric\n",
        "    # color_discrete_map={\"Male\": \"gray\" ,\"Female\":\"red\"},     # map your chosen colors\n",
        "    color_continuous_scale=px.colors.diverging.Picnic,       # set marker colors. When color colum is numeric data\n",
        "    # color_continuous_midpoint=5000,                           # set desired midpoint. When colors=diverging\n",
        "    range_color=[1,10000],                                   # set your own continuous color scale\n",
        "    #----------------------------------------------------------------------------------------------\n",
        "\n",
        "    labels={\n",
        "        \"convicts\":\"Convicts in Maharashtra\",\n",
        "        \"gender\":\"Gender\",\n",
        "        \"year\":\"Year\"},           # map the labels of the figure\n",
        "    title='Indian Prison Statistics', # figure title\n",
        "    width=1750,                   # figure width in pixels\n",
        "    height=720,                   # figure height in pixels\n",
        "    template='xgridoff',            # 'ggplot2', 'seaborn', 'simple_white', 'plotly',\n",
        "                                  # 'plotly_white', 'plotly_dark', 'presentation',\n",
        "                                  # 'xgridoff', 'ygridoff', 'gridon', 'none'\n",
        "\n",
        "\n",
        ")\n",
        "\n",
        "pio.show(barchart)"
      ],
      "execution_count": 57,
      "outputs": [
        {
          "output_type": "display_data",
          "data": {
            "text/html": [
              "<html>\n",
              "<head><meta charset=\"utf-8\" /></head>\n",
              "<body>\n",
              "    <div>\n",
              "            <script src=\"https://cdnjs.cloudflare.com/ajax/libs/mathjax/2.7.5/MathJax.js?config=TeX-AMS-MML_SVG\"></script><script type=\"text/javascript\">if (window.MathJax) {MathJax.Hub.Config({SVG: {font: \"STIX-Web\"}});}</script>\n",
              "                <script type=\"text/javascript\">window.PlotlyConfig = {MathJaxConfig: 'local'};</script>\n",
              "        <script src=\"https://cdn.plot.ly/plotly-latest.min.js\"></script>    \n",
              "            <div id=\"5a50062d-ada4-483a-b3de-3c10115b7288\" class=\"plotly-graph-div\" style=\"height:720px; width:1750px;\"></div>\n",
              "            <script type=\"text/javascript\">\n",
              "                \n",
              "                    window.PLOTLYENV=window.PLOTLYENV || {};\n",
              "                    \n",
              "                if (document.getElementById(\"5a50062d-ada4-483a-b3de-3c10115b7288\")) {\n",
              "                    Plotly.newPlot(\n",
              "                        '5a50062d-ada4-483a-b3de-3c10115b7288',\n",
              "                        [{\"alignmentgroup\": \"True\", \"hoverlabel\": {\"namelength\": 0}, \"hovertemplate\": \"Year=%{x}<br>Convicts in Maharashtra=%{marker.color}\", \"legendgroup\": \"\", \"marker\": {\"color\": [279, 6433, 311, 6887, 390, 7825, 484, 8447, 463, 8766, 449, 8700, 511, 8692, 499, 8665, 529, 8093, 449, 7690, 461, 7491, 457, 7569, 437, 7604], \"coloraxis\": \"coloraxis\", \"opacity\": 0.9}, \"name\": \"\", \"offsetgroup\": \"\", \"orientation\": \"v\", \"showlegend\": false, \"textposition\": \"auto\", \"type\": \"bar\", \"x\": [2001, 2001, 2002, 2002, 2003, 2003, 2004, 2004, 2005, 2005, 2006, 2006, 2007, 2007, 2008, 2008, 2009, 2009, 2010, 2010, 2011, 2011, 2012, 2012, 2013, 2013], \"xaxis\": \"x\", \"y\": [279, 6433, 311, 6887, 390, 7825, 484, 8447, 463, 8766, 449, 8700, 511, 8692, 499, 8665, 529, 8093, 449, 7690, 461, 7491, 457, 7569, 437, 7604], \"yaxis\": \"y\"}],\n",
              "                        {\"barmode\": \"relative\", \"coloraxis\": {\"cmax\": 10000, \"cmin\": 1, \"colorbar\": {\"title\": {\"text\": \"Convicts in Maharashtra\"}}, \"colorscale\": [[0.0, \"rgb(0,0,255)\"], [0.1, \"rgb(51,153,255)\"], [0.2, \"rgb(102,204,255)\"], [0.3, \"rgb(153,204,255)\"], [0.4, \"rgb(204,204,255)\"], [0.5, \"rgb(255,255,255)\"], [0.6, \"rgb(255,204,255)\"], [0.7, \"rgb(255,153,255)\"], [0.8, \"rgb(255,102,204)\"], [0.9, \"rgb(255,102,102)\"], [1.0, \"rgb(255,0,0)\"]]}, \"height\": 720, \"legend\": {\"tracegroupgap\": 0}, \"template\": {\"data\": {\"pie\": [{\"automargin\": true, \"type\": \"pie\"}]}, \"layout\": {\"xaxis\": {\"showgrid\": false, \"title\": {\"standoff\": 15}}, \"yaxis\": {\"title\": {\"standoff\": 15}}}}, \"title\": {\"text\": \"Indian Prison Statistics\"}, \"width\": 1750, \"xaxis\": {\"anchor\": \"y\", \"domain\": [0.0, 1.0], \"title\": {\"text\": \"Year\"}}, \"yaxis\": {\"anchor\": \"x\", \"domain\": [0.0, 1.0], \"title\": {\"text\": \"Convicts in Maharashtra\"}}},\n",
              "                        {\"responsive\": true}\n",
              "                    ).then(function(){\n",
              "                            \n",
              "var gd = document.getElementById('5a50062d-ada4-483a-b3de-3c10115b7288');\n",
              "var x = new MutationObserver(function (mutations, observer) {{\n",
              "        var display = window.getComputedStyle(gd).display;\n",
              "        if (!display || display === 'none') {{\n",
              "            console.log([gd, 'removed!']);\n",
              "            Plotly.purge(gd);\n",
              "            observer.disconnect();\n",
              "        }}\n",
              "}});\n",
              "\n",
              "// Listen for the removal of the full notebook cells\n",
              "var notebookContainer = gd.closest('#notebook-container');\n",
              "if (notebookContainer) {{\n",
              "    x.observe(notebookContainer, {childList: true});\n",
              "}}\n",
              "\n",
              "// Listen for the clearing of the current output cell\n",
              "var outputEl = gd.closest('.output');\n",
              "if (outputEl) {{\n",
              "    x.observe(outputEl, {childList: true});\n",
              "}}\n",
              "\n",
              "                        })\n",
              "                };\n",
              "                \n",
              "            </script>\n",
              "        </div>\n",
              "</body>\n",
              "</html>"
            ]
          },
          "metadata": {
            "tags": []
          }
        }
      ]
    },
    {
      "cell_type": "markdown",
      "metadata": {
        "id": "sIa4HBxT3xl-"
      },
      "source": [
        "<h2>7. Vertical Bar Chart (Hover Effect & Value Labelling)</h2>"
      ]
    },
    {
      "cell_type": "code",
      "metadata": {
        "id": "W0DtH0_p3x9a",
        "outputId": "33abce1c-900e-4d79-adc2-a0f6a71cd6ec",
        "colab": {
          "base_uri": "https://localhost:8080/",
          "height": 737
        }
      },
      "source": [
        "barchart = px.bar(\n",
        "    data_frame=df,\n",
        "    x=\"year\",\n",
        "    y=\"convicts\",\n",
        "    color=\"gender\",               # differentiate color of marks\n",
        "    opacity=0.9,                  # set opacity of markers (from 0 to 1)\n",
        "    orientation=\"v\",              # 'v','h': orientation of the marks\n",
        "    barmode='relative',           # in 'overlay' mode, bars are top of one another.\n",
        "                                  # in 'group' mode, bars are placed beside each other.\n",
        "                                  # in 'relative' mode, bars are stacked above (+) or below (-) zero.\n",
        "    text='convicts',            # values appear in figure as text labels\n",
        "    hover_name='convicts',   # values appear in bold in the hover tooltip\n",
        "    hover_data=['detenues'],    # values appear as extra data in the hover tooltip\n",
        "    custom_data=['others'],     # invisible values that are extra data to be used in Dash callbacks or widgets\n",
        "\n",
        "    labels={\n",
        "        \"convicts\":\"Convicts in Maharashtra\",\n",
        "        \"gender\":\"Gender\",\n",
        "        \"year\":\"Year\"},           # map the labels of the figure\n",
        "    title='Indian Prison Statistics', # figure title\n",
        "    width=1750,                   # figure width in pixels\n",
        "    height=720,                   # figure height in pixels\n",
        "    template='xgridoff',            # 'ggplot2', 'seaborn', 'simple_white', 'plotly',\n",
        "                                  # 'plotly_white', 'plotly_dark', 'presentation',\n",
        "                                  # 'xgridoff', 'ygridoff', 'gridon', 'none'\n",
        ")\n",
        "\n",
        "pio.show(barchart)"
      ],
      "execution_count": 56,
      "outputs": [
        {
          "output_type": "display_data",
          "data": {
            "text/html": [
              "<html>\n",
              "<head><meta charset=\"utf-8\" /></head>\n",
              "<body>\n",
              "    <div>\n",
              "            <script src=\"https://cdnjs.cloudflare.com/ajax/libs/mathjax/2.7.5/MathJax.js?config=TeX-AMS-MML_SVG\"></script><script type=\"text/javascript\">if (window.MathJax) {MathJax.Hub.Config({SVG: {font: \"STIX-Web\"}});}</script>\n",
              "                <script type=\"text/javascript\">window.PlotlyConfig = {MathJaxConfig: 'local'};</script>\n",
              "        <script src=\"https://cdn.plot.ly/plotly-latest.min.js\"></script>    \n",
              "            <div id=\"9608f23a-6ccc-45c6-9746-3b709d1798ef\" class=\"plotly-graph-div\" style=\"height:720px; width:1750px;\"></div>\n",
              "            <script type=\"text/javascript\">\n",
              "                \n",
              "                    window.PLOTLYENV=window.PLOTLYENV || {};\n",
              "                    \n",
              "                if (document.getElementById(\"9608f23a-6ccc-45c6-9746-3b709d1798ef\")) {\n",
              "                    Plotly.newPlot(\n",
              "                        '9608f23a-6ccc-45c6-9746-3b709d1798ef',\n",
              "                        [{\"alignmentgroup\": \"True\", \"customdata\": [[0, 1], [0, 8], [0, 1], [0, 0], [0, 1], [0, 1], [0, 1], [0, 2], [0, 0], [0, 2], [0, 0], [0, 0], [0, 1]], \"hoverlabel\": {\"namelength\": 0}, \"hovertemplate\": \"<b>%{hovertext}</b><br><br>Gender=Female<br>Year=%{x}<br>Convicts in Maharashtra=%{text}<br>detenues=%{customdata[1]}\", \"hovertext\": [279.0, 311.0, 390.0, 484.0, 463.0, 449.0, 511.0, 499.0, 529.0, 449.0, 461.0, 457.0, 437.0], \"legendgroup\": \"Gender=Female\", \"marker\": {\"color\": \"#1F77B4\", \"opacity\": 0.9}, \"name\": \"Gender=Female\", \"offsetgroup\": \"Gender=Female\", \"orientation\": \"v\", \"showlegend\": true, \"text\": [279.0, 311.0, 390.0, 484.0, 463.0, 449.0, 511.0, 499.0, 529.0, 449.0, 461.0, 457.0, 437.0], \"textposition\": \"auto\", \"type\": \"bar\", \"x\": [2001, 2002, 2003, 2004, 2005, 2006, 2007, 2008, 2009, 2010, 2011, 2012, 2013], \"xaxis\": \"x\", \"y\": [279, 311, 390, 484, 463, 449, 511, 499, 529, 449, 461, 457, 437], \"yaxis\": \"y\"}, {\"alignmentgroup\": \"True\", \"customdata\": [[4, 364], [0, 299], [21, 188], [37, 170], [21, 234], [1, 273], [0, 151], [0, 111], [0, 82], [0, 75], [0, 66], [15, 42], [0, 27]], \"hoverlabel\": {\"namelength\": 0}, \"hovertemplate\": \"<b>%{hovertext}</b><br><br>Gender=Male<br>Year=%{x}<br>Convicts in Maharashtra=%{text}<br>detenues=%{customdata[1]}\", \"hovertext\": [6433.0, 6887.0, 7825.0, 8447.0, 8766.0, 8700.0, 8692.0, 8665.0, 8093.0, 7690.0, 7491.0, 7569.0, 7604.0], \"legendgroup\": \"Gender=Male\", \"marker\": {\"color\": \"#FF7F0E\", \"opacity\": 0.9}, \"name\": \"Gender=Male\", \"offsetgroup\": \"Gender=Male\", \"orientation\": \"v\", \"showlegend\": true, \"text\": [6433.0, 6887.0, 7825.0, 8447.0, 8766.0, 8700.0, 8692.0, 8665.0, 8093.0, 7690.0, 7491.0, 7569.0, 7604.0], \"textposition\": \"auto\", \"type\": \"bar\", \"x\": [2001, 2002, 2003, 2004, 2005, 2006, 2007, 2008, 2009, 2010, 2011, 2012, 2013], \"xaxis\": \"x\", \"y\": [6433, 6887, 7825, 8447, 8766, 8700, 8692, 8665, 8093, 7690, 7491, 7569, 7604], \"yaxis\": \"y\"}],\n",
              "                        {\"barmode\": \"relative\", \"height\": 720, \"legend\": {\"tracegroupgap\": 0}, \"template\": {\"data\": {\"pie\": [{\"automargin\": true, \"type\": \"pie\"}]}, \"layout\": {\"xaxis\": {\"showgrid\": false, \"title\": {\"standoff\": 15}}, \"yaxis\": {\"title\": {\"standoff\": 15}}}}, \"title\": {\"text\": \"Indian Prison Statistics\"}, \"width\": 1750, \"xaxis\": {\"anchor\": \"y\", \"domain\": [0.0, 1.0], \"title\": {\"text\": \"Year\"}}, \"yaxis\": {\"anchor\": \"x\", \"domain\": [0.0, 1.0], \"title\": {\"text\": \"Convicts in Maharashtra\"}}},\n",
              "                        {\"responsive\": true}\n",
              "                    ).then(function(){\n",
              "                            \n",
              "var gd = document.getElementById('9608f23a-6ccc-45c6-9746-3b709d1798ef');\n",
              "var x = new MutationObserver(function (mutations, observer) {{\n",
              "        var display = window.getComputedStyle(gd).display;\n",
              "        if (!display || display === 'none') {{\n",
              "            console.log([gd, 'removed!']);\n",
              "            Plotly.purge(gd);\n",
              "            observer.disconnect();\n",
              "        }}\n",
              "}});\n",
              "\n",
              "// Listen for the removal of the full notebook cells\n",
              "var notebookContainer = gd.closest('#notebook-container');\n",
              "if (notebookContainer) {{\n",
              "    x.observe(notebookContainer, {childList: true});\n",
              "}}\n",
              "\n",
              "// Listen for the clearing of the current output cell\n",
              "var outputEl = gd.closest('.output');\n",
              "if (outputEl) {{\n",
              "    x.observe(outputEl, {childList: true});\n",
              "}}\n",
              "\n",
              "                        })\n",
              "                };\n",
              "                \n",
              "            </script>\n",
              "        </div>\n",
              "</body>\n",
              "</html>"
            ]
          },
          "metadata": {
            "tags": []
          }
        }
      ]
    }
  ]
}