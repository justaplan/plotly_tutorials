{
  "nbformat": 4,
  "nbformat_minor": 0,
  "metadata": {
    "colab": {
      "name": "Pie_chart(Plotly).ipynb",
      "provenance": [],
      "collapsed_sections": [],
      "authorship_tag": "ABX9TyOZwy0xCdu/y9dx/pNlDs7U",
      "include_colab_link": true
    },
    "kernelspec": {
      "name": "python3",
      "display_name": "Python 3"
    }
  },
  "cells": [
    {
      "cell_type": "markdown",
      "metadata": {
        "id": "view-in-github",
        "colab_type": "text"
      },
      "source": [
        "<a href=\"https://colab.research.google.com/github/justaplan/plotly_tutorials/blob/main/Pie_chart(Plotly).ipynb\" target=\"_parent\"><img src=\"https://colab.research.google.com/assets/colab-badge.svg\" alt=\"Open In Colab\"/></a>"
      ]
    },
    {
      "cell_type": "code",
      "metadata": {
        "id": "k6F1H9nbjT24",
        "outputId": "a101890a-17df-4474-8eb4-3d74aecfec56",
        "colab": {
          "base_uri": "https://localhost:8080/",
          "height": 51
        }
      },
      "source": [
        "from google.colab import drive\n",
        "\n",
        "drive.mount(\"/content/gdrive\" , force_remount=True)\n",
        "\n",
        "%cd \"/content/gdrive/My Drive/Python/List of CSV\""
      ],
      "execution_count": null,
      "outputs": [
        {
          "output_type": "stream",
          "text": [
            "Mounted at /content/gdrive\n",
            "/content/gdrive/My Drive/Python/List of CSV\n"
          ],
          "name": "stdout"
        }
      ]
    },
    {
      "cell_type": "code",
      "metadata": {
        "id": "BJ4W0nc9kAB2"
      },
      "source": [
        "from IPython.display import HTML\n",
        "import plotly\n",
        "import plotly.express as px\n",
        "import pandas as pd\n",
        "import plotly.io as pio\n"
      ],
      "execution_count": null,
      "outputs": []
    },
    {
      "cell_type": "markdown",
      "metadata": {
        "id": "yNJtNqWXk_3j"
      },
      "source": [
        "**<h1>Import CSV Data From Google Drive</h1>**"
      ]
    },
    {
      "cell_type": "code",
      "metadata": {
        "id": "5eezqZlck_dR"
      },
      "source": [
        "pie_df = pd.read_csv(\"bird-window-collision-death.csv\")"
      ],
      "execution_count": null,
      "outputs": []
    },
    {
      "cell_type": "markdown",
      "metadata": {
        "id": "waixkYRilYNZ"
      },
      "source": [
        "<h1>1. Pie Chart</h1>"
      ]
    },
    {
      "cell_type": "code",
      "metadata": {
        "id": "y7g2lP3vlbb3",
        "outputId": "4937c851-68aa-496e-e736-e18de04c48e7",
        "colab": {
          "base_uri": "https://localhost:8080/",
          "height": 542
        }
      },
      "source": [
        "fig = px.pie(pie_df, values='Deaths', names='Bldg #',color=\"Side\",hole=0.3)\n",
        "fig.update_traces(textinfo=\"label+percent\",insidetextfont=dict(color=\"white\"))\n",
        "fig.update_layout(legend={\"itemclick\":False})\n",
        "\n",
        "fig.show()"
      ],
      "execution_count": null,
      "outputs": [
        {
          "output_type": "display_data",
          "data": {
            "text/html": [
              "<html>\n",
              "<head><meta charset=\"utf-8\" /></head>\n",
              "<body>\n",
              "    <div>\n",
              "            <script src=\"https://cdnjs.cloudflare.com/ajax/libs/mathjax/2.7.5/MathJax.js?config=TeX-AMS-MML_SVG\"></script><script type=\"text/javascript\">if (window.MathJax) {MathJax.Hub.Config({SVG: {font: \"STIX-Web\"}});}</script>\n",
              "                <script type=\"text/javascript\">window.PlotlyConfig = {MathJaxConfig: 'local'};</script>\n",
              "        <script src=\"https://cdn.plot.ly/plotly-latest.min.js\"></script>    \n",
              "            <div id=\"16837064-85f9-4348-8775-8237dbcbe5ab\" class=\"plotly-graph-div\" style=\"height:525px; width:100%;\"></div>\n",
              "            <script type=\"text/javascript\">\n",
              "                \n",
              "                    window.PLOTLYENV=window.PLOTLYENV || {};\n",
              "                    \n",
              "                if (document.getElementById(\"16837064-85f9-4348-8775-8237dbcbe5ab\")) {\n",
              "                    Plotly.newPlot(\n",
              "                        '16837064-85f9-4348-8775-8237dbcbe5ab',\n",
              "                        [{\"customdata\": [[\"E\"], [\"C\"], [\"D\"], [\"B\"], [\"D\"], [\"B\"], [\"B\"], [\"B\"], [\"A\"], [\"B\"], [\"C\"], [\"D\"], [\"C\"], [\"A\"], [\"D\"], [\"C\"], [\"C\"], [\"C\"], [\"C\"], [\"B\"], [\"B\"], [\"B\"], [\"C\"], [\"A\"], [\"D\"], [\"D\"], [\"A\"], [\"C\"], [\"D\"], [\"E\"], [\"C\"], [\"A\"], [\"A\"], [\"D\"], [\"B\"], [\"D\"], [\"D\"], [\"A\"], [\"B\"], [\"C\"], [\"D\"], [\"A\"], [\"C\"], [\"B\"], [\"B\"], [\"F\"], [\"E\"], [\"C\"], [\"A\"], [\"F\"], [\"A\"], [\"D\"], [\"E\"], [\"B\"], [\"E\"], [\"B\"], [\"F\"], [\"B\"], [\"D\"], [\"B\"], [\"C\"], [\"A\"], [\"C\"], [\"B\"], [\"B\"], [\"C\"], [\"B\"], [\"D\"], [\"B\"], [\"A\"], [\"E\"], [\"A\"], [\"A\"], [\"A\"], [\"B\"], [\"C\"], [\"A\"], [\"C\"], [\"C\"], [\"B\"], [\"B\"], [\"G\"], [\"A\"], [\"B\"], [\"D\"], [\"B\"], [\"B\"], [\"D\"], [\"B\"], [\"C\"], [\"B\"], [\"F\"], [\"B\"], [\"D\"], [\"B\"], [\"C\"], [\"B\"], [\"B\"], [\"A\"], [\"A\"], [\"A\"], [\"B\"], [\"D\"], [\"C\"], [\"B\"], [\"D\"], [\"B\"], [\"B\"], [\"B\"], [\"D\"], [\"F\"], [\"D\"], [\"B\"], [\"C\"], [\"B\"], [\"E\"], [\"B\"], [\"C\"], [\"G\"], [\"C\"], [\"D\"], [\"A\"], [\"B\"], [\"A\"], [\"B\"], [\"B\"], [\"C\"], [\"C\"], [\"D\"], [\"B\"], [\"A\"], [\"B\"], [\"F\"], [\"E\"], [\"C\"], [\"C\"], [\"C \"], [\"B\"], [\"G\"], [\"D\"], [\"D\"], [\"A\"], [\"B\"], [\"C\"], [\"A\"], [\"D\"], [\"D\"], [\"C\"], [\"C\"], [\"F\"], [\"E\"], [\"A\"], [\"D\"], [\"A\"], [\"C\"], [\"D\"], [\"D\"], [\"D\"], [\"D\"], [\"B\"], [\"D\"], [\"B\"], [\"B\"], [\"A\"], [\"A\"], [\"D\"], [\"B\"], [\"D\"], [\"D\"], [\"A/B\"], [\"B\"], [\"B\"], [\"C\"], [\"C\"], [\"D\"], [\"A\"], [\"D\"], [\"A\"], [\"E\"], [\"C\"], [\"B\"], [\"B\"], [\"C\"], [\"C\"], [\"B\"], [\"B\"], [\"B\"], [\"D\"], [\"B\"], [\"D\"], [\"E\"], [\"F\"], [\"A\"], [\"F\"], [\"D\"], [\"C\"], [\"D\"], [\"C\"], [\"C\"], [\"C\"], [\"D\"], [\"C\"], [\"D\"], [\"A\"], [\"C\"], [\"C\"], [\"C\"], [\"C\"], [\"D\"], [\"D\"], [\"B\"], [\"A\"], [\"C\"], [\"E\"], [\"A\"], [\"C\"], [\"B\"], [\"C\"], [\"A\"], [\"A\"], [\"A\"], [\"A\"], [\"G\"], [\"D\"], [\"B\"], [\"E\"], [\"A\"], [\"B\"], [\"A\"], [\"A\"], [\"A\"], [\"B\"], [\"B\"], [\"F\"], [\"B\"], [\"C\"], [\"E\"], [\"E/A\"], [\"E/A\"], [\"C\"]], \"domain\": {\"x\": [0.0, 1.0], \"y\": [0.0, 1.0]}, \"hole\": 0.3, \"hoverlabel\": {\"namelength\": 0}, \"hovertemplate\": \"Side=%{customdata[0]}<br>Bldg #=%{label}<br>Deaths=%{value}\", \"insidetextfont\": {\"color\": \"white\"}, \"labels\": [\"twelve\", \"seventeen\", \"ten\", \"seven\", \"nine\", \"eleven\", \"fifteen\", \"fifteen\", \"twenty\", \"seven\", \"four\", \"eleven\", \"eleven\", \"sixteen\", \"sixteen\", \"three\", \"twelve\", \"eleven\", \"twenty-four\", \"eleven\", \"one\", \"three\", \"eight\", \"eleven\", \"sixteen\", \"seven\", \"four\", \"seven\", \"one\", \"seven\", \"twenty-four\", \"twenty-one\", \"twenty-one\", \"twenty-one\", \"one\", \"eleven\", \"sixteen\", \"one\", \"one\", \"four\", \"two\", \"twenty-one\", \"seven\", \"twenty-three\", \"nine\", \"fifteen\", \"fifteen\", \"one\", \"four\", \"twelve\", \"sixteen\", \"nine\", \"twenty-one\", \"four\", \"twenty-one\", \"eleven\", \"fifteen\", \"twenty\", \"eleven\", \"eleven\", \"eleven\", \"one\", \"twelve\", \"fourteen\", \"two\", \"four\", \"eleven\", \"sixteen\", \"seventeen\", \"twenty\", \"twenty-one\", \"twenty-four\", \"twenty-seven\", \"fifteen\", \"sixteen\", \"twenty-four\", \"seven\", \"twelve\", \"fourteen\", \"one\", \"twelve\", \"fifteen\", \"twenty\", \"one\", \"ten\", \"eleven\", \"twelve\", \"nine\", \"twenty\", \"ten\", \"twelve\", \"twelve\", \"fourteen\", \"fourteen\", \"thirty\", \"thirty\", \"twelve\", \"fourteen\", \"twenty\", \"twenty-four\", \"nine\", \"twenty\", \"twenty\", \"twenty-seven\", \"one\", \"twelve\", \"twelve\", \"sixteen\", \"two\", \"three\", \"ten\", \"twelve\", \"fourteen\", \"three\", \"four\", \"ten\", \"two\", \"thirty\", \"fifteen\", \"seventeen\", \"seventeen\", \"eleven\", \"eleven\", \"fifteen\", \"fifteen\", \"sixteen\", \"twenty-one\", \"three\", \"thirty\", \"nine\", \"eleven\", \"fourteen\", \"twenty-six\", \"twelve\", \"three\", \"three\", \"seven\", \"twelve\", \"fifteen\", \"twenty-seven\", \"seventeen\", \"twenty-four\", \"two\", \"three\", \"fifteen\", \"sixteen\", \"twenty-six\", \"one\", \"eleven\", \"twelve\", \"twenty\", \"twenty\", \"twenty-seven\", \"eleven\", \"eleven\", \"ten\", \"twelve\", \"twenty-three\", \"twenty-seven\", \"eleven\", \"fourteen\", \"two\", \"eleven\", \"eleven\", \"fourteen\", \"one\", \"nine\", \"sixteen\", \"sixteen\", \"seventeen\", \"twenty\", \"one\", \"twelve\", \"thirty\", \"two\", \"fifteen\", \"sixteen\", \"twenty\", \"twelve\", \"three\", \"twelve\", \"twelve\", \"eleven\", \"three\", \"three\", \"twelve\", \"twenty\", \"eleven\", \"twelve\", \"one\", \"ten\", \"twelve\", \"twenty-four\", \"twelve\", \"twenty-three\", \"eleven\", \"twelve\", \"seven\", \"seven\", \"seven\", \"twelve\", \"thirty\", \"two\", \"twenty-one\", \"fifteen\", \"three\", \"three\", \"three\", \"seven\", \"twelve\", \"twenty-seven\", \"eleven\", \"thirty\", \"twenty\", \"twenty\", \"twenty-one\", \"twelve\", \"two\", \"thirty\", \"sixteen\", \"twenty\", \"seven\", \"fifteen\", \"sixteen\", \"eleven\", \"ten\", \"eleven\", \"eleven\", \"one\", \"fourteen\", \"fourteen\", \"fourteen\", \"fourteen\", \"twelve\", \"fourteen\", \"seven\", \"seven\", \"seven\", \"seven\", \"thirteen\"], \"legendgroup\": \"\", \"marker\": {\"colors\": [\"#636efa\", \"#EF553B\", \"#00cc96\", \"#ab63fa\", \"#00cc96\", \"#ab63fa\", \"#ab63fa\", \"#ab63fa\", \"#FFA15A\", \"#ab63fa\", \"#EF553B\", \"#00cc96\", \"#EF553B\", \"#FFA15A\", \"#00cc96\", \"#EF553B\", \"#EF553B\", \"#EF553B\", \"#EF553B\", \"#ab63fa\", \"#ab63fa\", \"#ab63fa\", \"#EF553B\", \"#FFA15A\", \"#00cc96\", \"#00cc96\", \"#FFA15A\", \"#EF553B\", \"#00cc96\", \"#636efa\", \"#EF553B\", \"#FFA15A\", \"#FFA15A\", \"#00cc96\", \"#ab63fa\", \"#00cc96\", \"#00cc96\", \"#FFA15A\", \"#ab63fa\", \"#EF553B\", \"#00cc96\", \"#FFA15A\", \"#EF553B\", \"#ab63fa\", \"#ab63fa\", \"#19d3f3\", \"#636efa\", \"#EF553B\", \"#FFA15A\", \"#19d3f3\", \"#FFA15A\", \"#00cc96\", \"#636efa\", \"#ab63fa\", \"#636efa\", \"#ab63fa\", \"#19d3f3\", \"#ab63fa\", \"#00cc96\", \"#ab63fa\", \"#EF553B\", \"#FFA15A\", \"#EF553B\", \"#ab63fa\", \"#ab63fa\", \"#EF553B\", \"#ab63fa\", \"#00cc96\", \"#ab63fa\", \"#FFA15A\", \"#636efa\", \"#FFA15A\", \"#FFA15A\", \"#FFA15A\", \"#ab63fa\", \"#EF553B\", \"#FFA15A\", \"#EF553B\", \"#EF553B\", \"#ab63fa\", \"#ab63fa\", \"#FF6692\", \"#FFA15A\", \"#ab63fa\", \"#00cc96\", \"#ab63fa\", \"#ab63fa\", \"#00cc96\", \"#ab63fa\", \"#EF553B\", \"#ab63fa\", \"#19d3f3\", \"#ab63fa\", \"#00cc96\", \"#ab63fa\", \"#EF553B\", \"#ab63fa\", \"#ab63fa\", \"#FFA15A\", \"#FFA15A\", \"#FFA15A\", \"#ab63fa\", \"#00cc96\", \"#EF553B\", \"#ab63fa\", \"#00cc96\", \"#ab63fa\", \"#ab63fa\", \"#ab63fa\", \"#00cc96\", \"#19d3f3\", \"#00cc96\", \"#ab63fa\", \"#EF553B\", \"#ab63fa\", \"#636efa\", \"#ab63fa\", \"#EF553B\", \"#FF6692\", \"#EF553B\", \"#00cc96\", \"#FFA15A\", \"#ab63fa\", \"#FFA15A\", \"#ab63fa\", \"#ab63fa\", \"#EF553B\", \"#EF553B\", \"#00cc96\", \"#ab63fa\", \"#FFA15A\", \"#ab63fa\", \"#19d3f3\", \"#636efa\", \"#EF553B\", \"#EF553B\", \"#B6E880\", \"#ab63fa\", \"#FF6692\", \"#00cc96\", \"#00cc96\", \"#FFA15A\", \"#ab63fa\", \"#EF553B\", \"#FFA15A\", \"#00cc96\", \"#00cc96\", \"#EF553B\", \"#EF553B\", \"#19d3f3\", \"#636efa\", \"#FFA15A\", \"#00cc96\", \"#FFA15A\", \"#EF553B\", \"#00cc96\", \"#00cc96\", \"#00cc96\", \"#00cc96\", \"#ab63fa\", \"#00cc96\", \"#ab63fa\", \"#ab63fa\", \"#FFA15A\", \"#FFA15A\", \"#00cc96\", \"#ab63fa\", \"#00cc96\", \"#00cc96\", \"#FF97FF\", \"#ab63fa\", \"#ab63fa\", \"#EF553B\", \"#EF553B\", \"#00cc96\", \"#FFA15A\", \"#00cc96\", \"#FFA15A\", \"#636efa\", \"#EF553B\", \"#ab63fa\", \"#ab63fa\", \"#EF553B\", \"#EF553B\", \"#ab63fa\", \"#ab63fa\", \"#ab63fa\", \"#00cc96\", \"#ab63fa\", \"#00cc96\", \"#636efa\", \"#19d3f3\", \"#FFA15A\", \"#19d3f3\", \"#00cc96\", \"#EF553B\", \"#00cc96\", \"#EF553B\", \"#EF553B\", \"#EF553B\", \"#00cc96\", \"#EF553B\", \"#00cc96\", \"#FFA15A\", \"#EF553B\", \"#EF553B\", \"#EF553B\", \"#EF553B\", \"#00cc96\", \"#00cc96\", \"#ab63fa\", \"#FFA15A\", \"#EF553B\", \"#636efa\", \"#FFA15A\", \"#EF553B\", \"#ab63fa\", \"#EF553B\", \"#FFA15A\", \"#FFA15A\", \"#FFA15A\", \"#FFA15A\", \"#FF6692\", \"#00cc96\", \"#ab63fa\", \"#636efa\", \"#FFA15A\", \"#ab63fa\", \"#FFA15A\", \"#FFA15A\", \"#FFA15A\", \"#ab63fa\", \"#ab63fa\", \"#19d3f3\", \"#ab63fa\", \"#EF553B\", \"#636efa\", \"#FECB52\", \"#FECB52\", \"#EF553B\"]}, \"name\": \"\", \"showlegend\": true, \"textinfo\": \"label+percent\", \"type\": \"pie\", \"values\": [1, 1, 1, 1, 1, 1, 1, 1, 1, 1, 1, 1, 1, 1, 1, 1, 1, 1, 1, 1, 1, 1, 1, 1, 1, 1, 1, 1, 1, 1, 1, 1, 1, 1, 1, 1, 1, 1, 1, 1, 1, 1, 1, 1, 1, 1, 1, 1, 1, 1, 1, 1, 1, 1, 1, 1, 1, 1, 1, 1, 1, 1, 1, 1, 1, 1, 1, 1, 1, 1, 1, 1, 1, 1, 1, 1, 1, 1, 1, 1, 1, 1, 1, 1, 1, 1, 1, 1, 1, 1, 1, 1, 1, 1, 1, 1, 1, 1, 1, 1, 1, 1, 1, 1, 1, 1, 1, 1, 1, 1, 1, 1, 1, 1, 1, 1, 1, 1, 1, 1, 1, 1, 1, 1, 1, 1, 1, 1, 1, 1, 1, 1, 1, 1, 1, 1, 1, 1, 1, 1, 1, 1, 1, 1, 1, 1, 1, 1, 1, 1, 1, 1, 1, 1, 1, 1, 1, 1, 1, 1, 1, 1, 1, 1, 1, 1, 1, 1, 1, 1, 1, 1, 1, 1, 1, 1, 1, 1, 1, 1, 1, 1, 1, 1, 1, 1, 1, 1, 1, 1, 1, 1, 1, 1, 1, 1, 1, 1, 1, 1, 1, 1, 1, 1, 1, 1, 1, 1, 1, 1, 1, 1, 1, 1, 1, 1, 1, 1, 1, 1, 1, 1, 1, 1, 1, 1, 1, 1, 1, 1, 1, 1, 1, 1, 1, 1, 1, 1, 1, 1]}],\n",
              "                        {\"legend\": {\"itemclick\": false, \"tracegroupgap\": 0}, \"margin\": {\"t\": 60}, \"template\": {\"data\": {\"bar\": [{\"error_x\": {\"color\": \"#2a3f5f\"}, \"error_y\": {\"color\": \"#2a3f5f\"}, \"marker\": {\"line\": {\"color\": \"#E5ECF6\", \"width\": 0.5}}, \"type\": \"bar\"}], \"barpolar\": [{\"marker\": {\"line\": {\"color\": \"#E5ECF6\", \"width\": 0.5}}, \"type\": \"barpolar\"}], \"carpet\": [{\"aaxis\": {\"endlinecolor\": \"#2a3f5f\", \"gridcolor\": \"white\", \"linecolor\": \"white\", \"minorgridcolor\": \"white\", \"startlinecolor\": \"#2a3f5f\"}, \"baxis\": {\"endlinecolor\": \"#2a3f5f\", \"gridcolor\": \"white\", \"linecolor\": \"white\", \"minorgridcolor\": \"white\", \"startlinecolor\": \"#2a3f5f\"}, \"type\": \"carpet\"}], \"choropleth\": [{\"colorbar\": {\"outlinewidth\": 0, \"ticks\": \"\"}, \"type\": \"choropleth\"}], \"contour\": [{\"colorbar\": {\"outlinewidth\": 0, \"ticks\": \"\"}, \"colorscale\": [[0.0, \"#0d0887\"], [0.1111111111111111, \"#46039f\"], [0.2222222222222222, \"#7201a8\"], [0.3333333333333333, \"#9c179e\"], [0.4444444444444444, \"#bd3786\"], [0.5555555555555556, \"#d8576b\"], [0.6666666666666666, \"#ed7953\"], [0.7777777777777778, \"#fb9f3a\"], [0.8888888888888888, \"#fdca26\"], [1.0, \"#f0f921\"]], \"type\": \"contour\"}], \"contourcarpet\": [{\"colorbar\": {\"outlinewidth\": 0, \"ticks\": \"\"}, \"type\": \"contourcarpet\"}], \"heatmap\": [{\"colorbar\": {\"outlinewidth\": 0, \"ticks\": \"\"}, \"colorscale\": [[0.0, \"#0d0887\"], [0.1111111111111111, \"#46039f\"], [0.2222222222222222, \"#7201a8\"], [0.3333333333333333, \"#9c179e\"], [0.4444444444444444, \"#bd3786\"], [0.5555555555555556, \"#d8576b\"], [0.6666666666666666, \"#ed7953\"], [0.7777777777777778, \"#fb9f3a\"], [0.8888888888888888, \"#fdca26\"], [1.0, \"#f0f921\"]], \"type\": \"heatmap\"}], \"heatmapgl\": [{\"colorbar\": {\"outlinewidth\": 0, \"ticks\": \"\"}, \"colorscale\": [[0.0, \"#0d0887\"], [0.1111111111111111, \"#46039f\"], [0.2222222222222222, \"#7201a8\"], [0.3333333333333333, \"#9c179e\"], [0.4444444444444444, \"#bd3786\"], [0.5555555555555556, \"#d8576b\"], [0.6666666666666666, \"#ed7953\"], [0.7777777777777778, \"#fb9f3a\"], [0.8888888888888888, \"#fdca26\"], [1.0, \"#f0f921\"]], \"type\": \"heatmapgl\"}], \"histogram\": [{\"marker\": {\"colorbar\": {\"outlinewidth\": 0, \"ticks\": \"\"}}, \"type\": \"histogram\"}], \"histogram2d\": [{\"colorbar\": {\"outlinewidth\": 0, \"ticks\": \"\"}, \"colorscale\": [[0.0, \"#0d0887\"], [0.1111111111111111, \"#46039f\"], [0.2222222222222222, \"#7201a8\"], [0.3333333333333333, \"#9c179e\"], [0.4444444444444444, \"#bd3786\"], [0.5555555555555556, \"#d8576b\"], [0.6666666666666666, \"#ed7953\"], [0.7777777777777778, \"#fb9f3a\"], [0.8888888888888888, \"#fdca26\"], [1.0, \"#f0f921\"]], \"type\": \"histogram2d\"}], \"histogram2dcontour\": [{\"colorbar\": {\"outlinewidth\": 0, \"ticks\": \"\"}, \"colorscale\": [[0.0, \"#0d0887\"], [0.1111111111111111, \"#46039f\"], [0.2222222222222222, \"#7201a8\"], [0.3333333333333333, \"#9c179e\"], [0.4444444444444444, \"#bd3786\"], [0.5555555555555556, \"#d8576b\"], [0.6666666666666666, \"#ed7953\"], [0.7777777777777778, \"#fb9f3a\"], [0.8888888888888888, \"#fdca26\"], [1.0, \"#f0f921\"]], \"type\": \"histogram2dcontour\"}], \"mesh3d\": [{\"colorbar\": {\"outlinewidth\": 0, \"ticks\": \"\"}, \"type\": \"mesh3d\"}], \"parcoords\": [{\"line\": {\"colorbar\": {\"outlinewidth\": 0, \"ticks\": \"\"}}, \"type\": \"parcoords\"}], \"pie\": [{\"automargin\": true, \"type\": \"pie\"}], \"scatter\": [{\"marker\": {\"colorbar\": {\"outlinewidth\": 0, \"ticks\": \"\"}}, \"type\": \"scatter\"}], \"scatter3d\": [{\"line\": {\"colorbar\": {\"outlinewidth\": 0, \"ticks\": \"\"}}, \"marker\": {\"colorbar\": {\"outlinewidth\": 0, \"ticks\": \"\"}}, \"type\": \"scatter3d\"}], \"scattercarpet\": [{\"marker\": {\"colorbar\": {\"outlinewidth\": 0, \"ticks\": \"\"}}, \"type\": \"scattercarpet\"}], \"scattergeo\": [{\"marker\": {\"colorbar\": {\"outlinewidth\": 0, \"ticks\": \"\"}}, \"type\": \"scattergeo\"}], \"scattergl\": [{\"marker\": {\"colorbar\": {\"outlinewidth\": 0, \"ticks\": \"\"}}, \"type\": \"scattergl\"}], \"scattermapbox\": [{\"marker\": {\"colorbar\": {\"outlinewidth\": 0, \"ticks\": \"\"}}, \"type\": \"scattermapbox\"}], \"scatterpolar\": [{\"marker\": {\"colorbar\": {\"outlinewidth\": 0, \"ticks\": \"\"}}, \"type\": \"scatterpolar\"}], \"scatterpolargl\": [{\"marker\": {\"colorbar\": {\"outlinewidth\": 0, \"ticks\": \"\"}}, \"type\": \"scatterpolargl\"}], \"scatterternary\": [{\"marker\": {\"colorbar\": {\"outlinewidth\": 0, \"ticks\": \"\"}}, \"type\": \"scatterternary\"}], \"surface\": [{\"colorbar\": {\"outlinewidth\": 0, \"ticks\": \"\"}, \"colorscale\": [[0.0, \"#0d0887\"], [0.1111111111111111, \"#46039f\"], [0.2222222222222222, \"#7201a8\"], [0.3333333333333333, \"#9c179e\"], [0.4444444444444444, \"#bd3786\"], [0.5555555555555556, \"#d8576b\"], [0.6666666666666666, \"#ed7953\"], [0.7777777777777778, \"#fb9f3a\"], [0.8888888888888888, \"#fdca26\"], [1.0, \"#f0f921\"]], \"type\": \"surface\"}], \"table\": [{\"cells\": {\"fill\": {\"color\": \"#EBF0F8\"}, \"line\": {\"color\": \"white\"}}, \"header\": {\"fill\": {\"color\": \"#C8D4E3\"}, \"line\": {\"color\": \"white\"}}, \"type\": \"table\"}]}, \"layout\": {\"annotationdefaults\": {\"arrowcolor\": \"#2a3f5f\", \"arrowhead\": 0, \"arrowwidth\": 1}, \"coloraxis\": {\"colorbar\": {\"outlinewidth\": 0, \"ticks\": \"\"}}, \"colorscale\": {\"diverging\": [[0, \"#8e0152\"], [0.1, \"#c51b7d\"], [0.2, \"#de77ae\"], [0.3, \"#f1b6da\"], [0.4, \"#fde0ef\"], [0.5, \"#f7f7f7\"], [0.6, \"#e6f5d0\"], [0.7, \"#b8e186\"], [0.8, \"#7fbc41\"], [0.9, \"#4d9221\"], [1, \"#276419\"]], \"sequential\": [[0.0, \"#0d0887\"], [0.1111111111111111, \"#46039f\"], [0.2222222222222222, \"#7201a8\"], [0.3333333333333333, \"#9c179e\"], [0.4444444444444444, \"#bd3786\"], [0.5555555555555556, \"#d8576b\"], [0.6666666666666666, \"#ed7953\"], [0.7777777777777778, \"#fb9f3a\"], [0.8888888888888888, \"#fdca26\"], [1.0, \"#f0f921\"]], \"sequentialminus\": [[0.0, \"#0d0887\"], [0.1111111111111111, \"#46039f\"], [0.2222222222222222, \"#7201a8\"], [0.3333333333333333, \"#9c179e\"], [0.4444444444444444, \"#bd3786\"], [0.5555555555555556, \"#d8576b\"], [0.6666666666666666, \"#ed7953\"], [0.7777777777777778, \"#fb9f3a\"], [0.8888888888888888, \"#fdca26\"], [1.0, \"#f0f921\"]]}, \"colorway\": [\"#636efa\", \"#EF553B\", \"#00cc96\", \"#ab63fa\", \"#FFA15A\", \"#19d3f3\", \"#FF6692\", \"#B6E880\", \"#FF97FF\", \"#FECB52\"], \"font\": {\"color\": \"#2a3f5f\"}, \"geo\": {\"bgcolor\": \"white\", \"lakecolor\": \"white\", \"landcolor\": \"#E5ECF6\", \"showlakes\": true, \"showland\": true, \"subunitcolor\": \"white\"}, \"hoverlabel\": {\"align\": \"left\"}, \"hovermode\": \"closest\", \"mapbox\": {\"style\": \"light\"}, \"paper_bgcolor\": \"white\", \"plot_bgcolor\": \"#E5ECF6\", \"polar\": {\"angularaxis\": {\"gridcolor\": \"white\", \"linecolor\": \"white\", \"ticks\": \"\"}, \"bgcolor\": \"#E5ECF6\", \"radialaxis\": {\"gridcolor\": \"white\", \"linecolor\": \"white\", \"ticks\": \"\"}}, \"scene\": {\"xaxis\": {\"backgroundcolor\": \"#E5ECF6\", \"gridcolor\": \"white\", \"gridwidth\": 2, \"linecolor\": \"white\", \"showbackground\": true, \"ticks\": \"\", \"zerolinecolor\": \"white\"}, \"yaxis\": {\"backgroundcolor\": \"#E5ECF6\", \"gridcolor\": \"white\", \"gridwidth\": 2, \"linecolor\": \"white\", \"showbackground\": true, \"ticks\": \"\", \"zerolinecolor\": \"white\"}, \"zaxis\": {\"backgroundcolor\": \"#E5ECF6\", \"gridcolor\": \"white\", \"gridwidth\": 2, \"linecolor\": \"white\", \"showbackground\": true, \"ticks\": \"\", \"zerolinecolor\": \"white\"}}, \"shapedefaults\": {\"line\": {\"color\": \"#2a3f5f\"}}, \"ternary\": {\"aaxis\": {\"gridcolor\": \"white\", \"linecolor\": \"white\", \"ticks\": \"\"}, \"baxis\": {\"gridcolor\": \"white\", \"linecolor\": \"white\", \"ticks\": \"\"}, \"bgcolor\": \"#E5ECF6\", \"caxis\": {\"gridcolor\": \"white\", \"linecolor\": \"white\", \"ticks\": \"\"}}, \"title\": {\"x\": 0.05}, \"xaxis\": {\"automargin\": true, \"gridcolor\": \"white\", \"linecolor\": \"white\", \"ticks\": \"\", \"title\": {\"standoff\": 15}, \"zerolinecolor\": \"white\", \"zerolinewidth\": 2}, \"yaxis\": {\"automargin\": true, \"gridcolor\": \"white\", \"linecolor\": \"white\", \"ticks\": \"\", \"title\": {\"standoff\": 15}, \"zerolinecolor\": \"white\", \"zerolinewidth\": 2}}}},\n",
              "                        {\"responsive\": true}\n",
              "                    ).then(function(){\n",
              "                            \n",
              "var gd = document.getElementById('16837064-85f9-4348-8775-8237dbcbe5ab');\n",
              "var x = new MutationObserver(function (mutations, observer) {{\n",
              "        var display = window.getComputedStyle(gd).display;\n",
              "        if (!display || display === 'none') {{\n",
              "            console.log([gd, 'removed!']);\n",
              "            Plotly.purge(gd);\n",
              "            observer.disconnect();\n",
              "        }}\n",
              "}});\n",
              "\n",
              "// Listen for the removal of the full notebook cells\n",
              "var notebookContainer = gd.closest('#notebook-container');\n",
              "if (notebookContainer) {{\n",
              "    x.observe(notebookContainer, {childList: true});\n",
              "}}\n",
              "\n",
              "// Listen for the clearing of the current output cell\n",
              "var outputEl = gd.closest('.output');\n",
              "if (outputEl) {{\n",
              "    x.observe(outputEl, {childList: true});\n",
              "}}\n",
              "\n",
              "                        })\n",
              "                };\n",
              "                \n",
              "            </script>\n",
              "        </div>\n",
              "</body>\n",
              "</html>"
            ]
          },
          "metadata": {
            "tags": []
          }
        }
      ]
    },
    {
      "cell_type": "markdown",
      "metadata": {
        "id": "k0J4nVACCPL0"
      },
      "source": [
        "<h3>Thanks to Charming Data</h3>\n",
        "<h3>[Introduction to Plotly Data Visualization](https://www.youtube.com/watch?v=_b2KXL0wHQg&list=PLh3I780jNsiTXlWYiNWjq2rBgg3UsL1Ub&index=1)</h3>"
      ]
    }
  ]
}